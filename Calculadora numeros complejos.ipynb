{
 "cells": [
  {
   "cell_type": "markdown",
   "metadata": {},
   "source": [
    "Importacion de librerias "
   ]
  },
  {
   "cell_type": "code",
   "execution_count": 1,
   "metadata": {},
   "outputs": [],
   "source": [
    "import math "
   ]
  },
  {
   "cell_type": "markdown",
   "metadata": {},
   "source": [
    "Función para imprimir numeros complejos ( imprimirNum )"
   ]
  },
  {
   "cell_type": "code",
   "execution_count": 2,
   "metadata": {},
   "outputs": [],
   "source": [
    "def imprimirNum (num):\n",
    "    if num != \"No es posible realizar esta operación\":\n",
    "        x = num[0]\n",
    "        y = num[1]\n",
    "        if x == 0:\n",
    "            if y == 0:\n",
    "                print (0)\n",
    "            elif y == 1: \n",
    "                print (\"i\")\n",
    "            else:\n",
    "                print (str(y)+\"i\")\n",
    "        elif y == 0:\n",
    "            print (x)\n",
    "        elif num[1] < 0:\n",
    "            print(str(x)+ \" - \"+str(y*(-1))+\"i\")\n",
    "        else:\n",
    "            print(str(x)+ \" + \"+str(y)+\"i\")"
   ]
  },
  {
   "cell_type": "markdown",
   "metadata": {},
   "source": [
    "A continuación se realizarán pruebas, para determinar que la función imprimirNum funcione correctamente "
   ]
  },
  {
   "cell_type": "code",
   "execution_count": 3,
   "metadata": {},
   "outputs": [
    {
     "name": "stdout",
     "output_type": "stream",
     "text": [
      "1 + 2i\n",
      "0\n",
      "2i\n",
      "2\n"
     ]
    }
   ],
   "source": [
    "imprimirNum ([1,2])\n",
    "imprimirNum ([0,0])\n",
    "imprimirNum ([0,2])\n",
    "imprimirNum ([2,0])"
   ]
  },
  {
   "cell_type": "markdown",
   "metadata": {},
   "source": [
    "\n",
    "*NOTA : Tenga en cuenta que para usar funciones que requieran grados, dichos grados debe ingresarlos en radianes*\n",
    "    "
   ]
  },
  {
   "cell_type": "markdown",
   "metadata": {},
   "source": [
    "A continuación se definen las funciones sumar, restar y multiplicar, las cuales reciben 2 números complejos representados en un arreglo.\n",
    "Ejemplo:  2 + 4i = [2,4],  8i = [0,8], 4 = [4,0]"
   ]
  },
  {
   "cell_type": "code",
   "execution_count": 4,
   "metadata": {},
   "outputs": [],
   "source": [
    "def sumar (x , y):\n",
    "    resultado  = [ (x[0]+y[0]) , (x[1]+y[1])]\n",
    "    return resultado"
   ]
  },
  {
   "cell_type": "markdown",
   "metadata": {},
   "source": [
    "Pruebas para la funcion sumar :"
   ]
  },
  {
   "cell_type": "code",
   "execution_count": 5,
   "metadata": {},
   "outputs": [
    {
     "name": "stdout",
     "output_type": "stream",
     "text": [
      "6 + 11i\n"
     ]
    }
   ],
   "source": [
    "imprimirNum(sumar ([1,2],[5,9]))"
   ]
  },
  {
   "cell_type": "code",
   "execution_count": 6,
   "metadata": {},
   "outputs": [
    {
     "name": "stdout",
     "output_type": "stream",
     "text": [
      "-1 + 1i\n"
     ]
    }
   ],
   "source": [
    "imprimirNum(sumar ([-8,7],[7,-6]))"
   ]
  },
  {
   "cell_type": "code",
   "execution_count": 7,
   "metadata": {},
   "outputs": [
    {
     "name": "stdout",
     "output_type": "stream",
     "text": [
      "0\n"
     ]
    }
   ],
   "source": [
    "imprimirNum(sumar ([0,1],[0,-1]))"
   ]
  },
  {
   "cell_type": "code",
   "execution_count": 8,
   "metadata": {},
   "outputs": [],
   "source": [
    "def restar (x , y):\n",
    "    resultado  = [ (x[0]-y[0]) , (x[1]-y[1])]\n",
    "    return resultado\n"
   ]
  },
  {
   "cell_type": "markdown",
   "metadata": {},
   "source": [
    "Pruebas para la función restar :"
   ]
  },
  {
   "cell_type": "code",
   "execution_count": 9,
   "metadata": {},
   "outputs": [
    {
     "name": "stdout",
     "output_type": "stream",
     "text": [
      "-4 - 7i\n"
     ]
    }
   ],
   "source": [
    "imprimirNum(restar ([1,2],[5,9]))"
   ]
  },
  {
   "cell_type": "code",
   "execution_count": 10,
   "metadata": {},
   "outputs": [
    {
     "name": "stdout",
     "output_type": "stream",
     "text": [
      "-15 + 13i\n"
     ]
    }
   ],
   "source": [
    "imprimirNum(restar ([-8,7],[7,-6]))"
   ]
  },
  {
   "cell_type": "code",
   "execution_count": 11,
   "metadata": {},
   "outputs": [
    {
     "name": "stdout",
     "output_type": "stream",
     "text": [
      "2i\n"
     ]
    }
   ],
   "source": [
    "imprimirNum(restar ([0,1],[0,-1]))"
   ]
  },
  {
   "cell_type": "code",
   "execution_count": 12,
   "metadata": {},
   "outputs": [],
   "source": [
    "def multiplicar (x , y):\n",
    "    resultado = [ (x[0]*y[0] - x[1]*y[1]) , (x[0]*y[1] + x[1]*y[0])] \n",
    "    return resultado\n"
   ]
  },
  {
   "cell_type": "markdown",
   "metadata": {},
   "source": [
    "pruebas para la función multiplicar:"
   ]
  },
  {
   "cell_type": "code",
   "execution_count": 13,
   "metadata": {},
   "outputs": [
    {
     "name": "stdout",
     "output_type": "stream",
     "text": [
      "-5 + 5i\n"
     ]
    }
   ],
   "source": [
    "imprimirNum(multiplicar ([-3,-1],[1,-2]))"
   ]
  },
  {
   "cell_type": "code",
   "execution_count": 14,
   "metadata": {},
   "outputs": [
    {
     "name": "stdout",
     "output_type": "stream",
     "text": [
      "7 + 4i\n"
     ]
    }
   ],
   "source": [
    "imprimirNum(multiplicar ([3,-2],[1,2]))"
   ]
  },
  {
   "cell_type": "code",
   "execution_count": 15,
   "metadata": {},
   "outputs": [
    {
     "name": "stdout",
     "output_type": "stream",
     "text": [
      "25i\n"
     ]
    }
   ],
   "source": [
    "imprimirNum(multiplicar ([0,5],[5,0]))"
   ]
  },
  {
   "cell_type": "code",
   "execution_count": 16,
   "metadata": {},
   "outputs": [],
   "source": [
    "def dividir (x , y):\n",
    "    if y[0] == 0 and y[1] == 0:\n",
    "        print (\"No es posible realizar esta operación\")\n",
    "        return \"No es posible realizar esta operación\"\n",
    "    else:\n",
    "        temp = y[0]**2 + y[1]**2 \n",
    "        temp1 = x[0]*y[0] + x[1]*y[1]\n",
    "        temp2 = y[0]*x[1] - x[0]*y[1]\n",
    "        temp1 = round(temp1, 2)\n",
    "        temp2 = round(temp2, 2)\n",
    "        resultado = [temp1/temp , temp2/temp]   \n",
    "        return resultado"
   ]
  },
  {
   "cell_type": "markdown",
   "metadata": {},
   "source": [
    "pruebas para la función dividir:"
   ]
  },
  {
   "cell_type": "code",
   "execution_count": 18,
   "metadata": {},
   "outputs": [
    {
     "name": "stdout",
     "output_type": "stream",
     "text": [
      "i\n"
     ]
    }
   ],
   "source": [
    "imprimirNum(dividir ([-2,1],[1,2]))"
   ]
  },
  {
   "cell_type": "code",
   "execution_count": 20,
   "metadata": {},
   "outputs": [
    {
     "name": "stdout",
     "output_type": "stream",
     "text": [
      "No es posible realizar esta operación\n"
     ]
    }
   ],
   "source": [
    "imprimirNum(dividir ([5,4],[0,0]))"
   ]
  },
  {
   "cell_type": "code",
   "execution_count": 21,
   "metadata": {},
   "outputs": [
    {
     "name": "stdout",
     "output_type": "stream",
     "text": [
      "-1.5 - 1.5i\n"
     ]
    }
   ],
   "source": [
    "imprimirNum(dividir ([0,3],[-1,-1]))"
   ]
  },
  {
   "cell_type": "markdown",
   "metadata": {},
   "source": [
    "Ahora se definirán las funciones conjugar y módulo con sus respectivas pruebas"
   ]
  },
  {
   "cell_type": "code",
   "execution_count": 23,
   "metadata": {},
   "outputs": [],
   "source": [
    "def conjugar (x):\n",
    "    resultado = [x[0], x[1]*(-1)]\n",
    "    return resultado"
   ]
  },
  {
   "cell_type": "markdown",
   "metadata": {},
   "source": [
    "pruebas para la función conjungar:"
   ]
  },
  {
   "cell_type": "code",
   "execution_count": 25,
   "metadata": {},
   "outputs": [
    {
     "name": "stdout",
     "output_type": "stream",
     "text": [
      "2 - 4i\n"
     ]
    }
   ],
   "source": [
    "imprimirNum(conjugar ([2,4]))"
   ]
  },
  {
   "cell_type": "code",
   "execution_count": 26,
   "metadata": {},
   "outputs": [
    {
     "name": "stdout",
     "output_type": "stream",
     "text": [
      "56 + 2i\n"
     ]
    }
   ],
   "source": [
    "imprimirNum(conjugar ([56,-2]))"
   ]
  },
  {
   "cell_type": "code",
   "execution_count": 27,
   "metadata": {},
   "outputs": [],
   "source": [
    "def modulo (x):\n",
    "    resultado = (x[0]**2 + x[1]**2)**(1/2)\n",
    "    if resultado != None:\n",
    "        resultado = round(resultado,2)\n",
    "        return resultado"
   ]
  },
  {
   "cell_type": "markdown",
   "metadata": {},
   "source": [
    "pruebas para la función modulo:"
   ]
  },
  {
   "cell_type": "code",
   "execution_count": 29,
   "metadata": {},
   "outputs": [
    {
     "name": "stdout",
     "output_type": "stream",
     "text": [
      "5.0\n"
     ]
    }
   ],
   "source": [
    "print (modulo ([3,4]))"
   ]
  },
  {
   "cell_type": "code",
   "execution_count": 30,
   "metadata": {},
   "outputs": [
    {
     "name": "stdout",
     "output_type": "stream",
     "text": [
      "2.83\n"
     ]
    }
   ],
   "source": [
    "print(modulo ([2,2]))"
   ]
  },
  {
   "cell_type": "code",
   "execution_count": 31,
   "metadata": {},
   "outputs": [
    {
     "name": "stdout",
     "output_type": "stream",
     "text": [
      "25.0\n"
     ]
    }
   ],
   "source": [
    "print(modulo ([0,25]))"
   ]
  },
  {
   "cell_type": "markdown",
   "metadata": {},
   "source": [
    "A continuación se definirán funciones para transformar de coordenadas cartesianas a polares (llamada cPolar) y de polares \n",
    "a cartesianas (llamada pCartesiana )"
   ]
  },
  {
   "cell_type": "code",
   "execution_count": 32,
   "metadata": {},
   "outputs": [],
   "source": [
    "def cPolar (x):\n",
    "    r = (x[0]**2 + x[1]**2)**(1/2)\n",
    "    tethaRadianes = math.atan(x[1]/x[0])\n",
    "    tethaGrados = tethaRadianes * 180 / math.pi \n",
    "    r  = round(r, 2)\n",
    "    tethaGrados = round(tethaGrados,2)\n",
    "    resultado = [r,tethaGrados]\n",
    "    return resultado"
   ]
  },
  {
   "cell_type": "markdown",
   "metadata": {},
   "source": [
    "Pruebas para convertir de coordenadas cartesianas a polares:"
   ]
  },
  {
   "cell_type": "code",
   "execution_count": 34,
   "metadata": {},
   "outputs": [
    {
     "name": "stdout",
     "output_type": "stream",
     "text": [
      "[5.39, 68.2]\n"
     ]
    }
   ],
   "source": [
    "print(cPolar([2,5]))"
   ]
  },
  {
   "cell_type": "code",
   "execution_count": 35,
   "metadata": {},
   "outputs": [
    {
     "name": "stdout",
     "output_type": "stream",
     "text": [
      "[103.46, 57.23]\n"
     ]
    }
   ],
   "source": [
    "print(cPolar ([56,87]))"
   ]
  },
  {
   "cell_type": "markdown",
   "metadata": {},
   "source": [
    "Para reprentar un número complejo en coordenadas polares, usando la fórmula de Euler a continuación se define la\n",
    "función imprimirPolar\n"
   ]
  },
  {
   "cell_type": "code",
   "execution_count": 37,
   "metadata": {},
   "outputs": [],
   "source": [
    "def imprimirPolar(x):\n",
    "    str1 = \"(\"+\"i\"+\"·\"+str(x[1])+\"˚\"+\")\"\n",
    "    str2 = \"e\" + \"^\" + str1\n",
    "    str3 = str(x[0])+\" · \"+str2\n",
    "    print(str3)"
   ]
  },
  {
   "cell_type": "code",
   "execution_count": 38,
   "metadata": {},
   "outputs": [
    {
     "name": "stdout",
     "output_type": "stream",
     "text": [
      "1.41 · e^(i·45.0˚)\n"
     ]
    }
   ],
   "source": [
    "imprimirPolar(cPolar ([1,1]))"
   ]
  },
  {
   "cell_type": "code",
   "execution_count": 39,
   "metadata": {},
   "outputs": [
    {
     "name": "stdout",
     "output_type": "stream",
     "text": [
      "103.46 · e^(i·57.23˚)\n"
     ]
    }
   ],
   "source": [
    "imprimirPolar(cPolar ([56,87]))"
   ]
  },
  {
   "cell_type": "code",
   "execution_count": 40,
   "metadata": {},
   "outputs": [],
   "source": [
    "def pCartesiana (x):\n",
    "    a = x[0]*math.cos(x[1])\n",
    "    b = x[0]*math.sin(x[1])\n",
    "    a = round(a,2)\n",
    "    b = round(b,2)\n",
    "    resultado = [a,b]\n",
    "    return resultado"
   ]
  },
  {
   "cell_type": "markdown",
   "metadata": {},
   "source": [
    "Pruebas para convertir de coordenadas polares a cartesianas:"
   ]
  },
  {
   "cell_type": "code",
   "execution_count": 41,
   "metadata": {},
   "outputs": [
    {
     "name": "stdout",
     "output_type": "stream",
     "text": [
      "4.78 + 1.48i\n"
     ]
    }
   ],
   "source": [
    "imprimirNum(pCartesiana ([5,38]))"
   ]
  },
  {
   "cell_type": "code",
   "execution_count": 42,
   "metadata": {},
   "outputs": [
    {
     "name": "stdout",
     "output_type": "stream",
     "text": [
      "43.3 + 25.0i\n"
     ]
    }
   ],
   "source": [
    "imprimirNum(pCartesiana([50,(math.pi)/6]))"
   ]
  },
  {
   "cell_type": "code",
   "execution_count": 43,
   "metadata": {},
   "outputs": [],
   "source": [
    "def faseComplejo(x):\n",
    "    if x[0] >= 0 and x[1] > 0:\n",
    "        tetha = (x[1]*180) / math.pi\n",
    "        \n",
    "    elif x[0] < 0 and x[1] > 0:\n",
    "        angulo = math.atan(x[1])\n",
    "        angulo = (angulo * 180)/math.pi\n",
    "        tetha =  180 - angulo \n",
    "    \n",
    "    elif x[0] < 0 and x[1] < 0:\n",
    "        a = x[1]*(-1)\n",
    "        angulo = math.atan(a)\n",
    "        angulo = (angulo * 180)/math.pi\n",
    "        tetha =  270 - angulo\n",
    "        \n",
    "    elif x[0] >= 0 and x[1] < 0:\n",
    "        angulo = math.atan(x[1]*(-1))\n",
    "        angulo = (angulo * 180)/math.pi\n",
    "        tetha = 360 - angulo\n",
    "        \n",
    "    return tetha"
   ]
  },
  {
   "cell_type": "markdown",
   "metadata": {},
   "source": [
    "Ahora se añadirá una función para imprimir la fase del número complejo y además la función gRadianes\n",
    "para convertir grados a radiames y rGrados para el proceso inverso, que serán utiles para el manejo de \n",
    "otras funciones\n"
   ]
  },
  {
   "cell_type": "code",
   "execution_count": 44,
   "metadata": {},
   "outputs": [],
   "source": [
    "def imprimirFase(x):\n",
    "    radianes = gRadianes(x)\n",
    "    radianes = round(radianes, 2)\n",
    "    print(str(radianes)+\" Rad\")\n",
    "    print(str(x)+\"˚\")"
   ]
  },
  {
   "cell_type": "code",
   "execution_count": 45,
   "metadata": {},
   "outputs": [],
   "source": [
    "def gRadianes (x):\n",
    "    return x*math.pi/180"
   ]
  },
  {
   "cell_type": "code",
   "execution_count": 46,
   "metadata": {},
   "outputs": [],
   "source": [
    "def rGrados (x):\n",
    "    return x*math.pi/180"
   ]
  },
  {
   "cell_type": "markdown",
   "metadata": {},
   "source": [
    "Pruebas para la función faseComplejo"
   ]
  },
  {
   "cell_type": "code",
   "execution_count": 47,
   "metadata": {},
   "outputs": [
    {
     "name": "stdout",
     "output_type": "stream",
     "text": [
      "5.24 Rad\n",
      "300.0˚\n"
     ]
    }
   ],
   "source": [
    "imprimirFase(faseComplejo([1,math.sqrt(3)*(-1)]))"
   ]
  },
  {
   "cell_type": "code",
   "execution_count": 48,
   "metadata": {},
   "outputs": [
    {
     "name": "stdout",
     "output_type": "stream",
     "text": [
      "1.57 Rad\n",
      "90.0˚\n"
     ]
    }
   ],
   "source": [
    "imprimirFase(faseComplejo([0,math.pi/2]))"
   ]
  },
  {
   "cell_type": "code",
   "execution_count": 49,
   "metadata": {},
   "outputs": [
    {
     "name": "stdout",
     "output_type": "stream",
     "text": [
      "5.5 Rad\n",
      "315.0˚\n"
     ]
    }
   ],
   "source": [
    "imprimirFase(faseComplejo([1,-1]))"
   ]
  },
  {
   "cell_type": "code",
   "execution_count": 61,
   "metadata": {},
   "outputs": [],
   "source": [
    "def adicionVectores(x,y):\n",
    "    if len(x) == len(y):\n",
    "        resultado = []\n",
    "        for i in range(len(x)):\n",
    "            resultado.append(sumar(x[i],y[i]))\n",
    "    else:\n",
    "        resultado = \"No es posible realizar esta operación\"\n",
    "    print(resultado)"
   ]
  },
  {
   "cell_type": "code",
   "execution_count": 62,
   "metadata": {},
   "outputs": [
    {
     "name": "stdout",
     "output_type": "stream",
     "text": [
      "[[22, -1.7000000000000002], [7, -4], [10.2, -8.1]]\n"
     ]
    }
   ],
   "source": [
    "adicionVectores([[6,-4],[7,3],[4.2,-8.1]],[[16,2.3],[0,-7],[6,0]])"
   ]
  },
  {
   "cell_type": "code",
   "execution_count": 63,
   "metadata": {},
   "outputs": [],
   "source": [
    "def escalarPorVector(n,x):\n",
    "    resultado = []\n",
    "    n = [n,0]\n",
    "    for i in range(len(x)):\n",
    "        resultado.append(multiplicar(n,x[i]))\n",
    "    print(resultado)"
   ]
  },
  {
   "cell_type": "code",
   "execution_count": 67,
   "metadata": {},
   "outputs": [
    {
     "name": "stdout",
     "output_type": "stream",
     "text": [
      "[[-6, 4], [-7, -3], [-4.2, 8.1], [0, 3]]\n"
     ]
    }
   ],
   "source": [
    "escalarPorVector(-1,[[6,-4],[7,3],[4.2,-8.1],[0,-3]])"
   ]
  },
  {
   "cell_type": "code",
   "execution_count": 69,
   "metadata": {},
   "outputs": [],
   "source": [
    "def inversaVector(x):\n",
    "    resultado = escalarPorVector(-1,x)\n",
    "    print(resultado)"
   ]
  },
  {
   "cell_type": "code",
   "execution_count": 70,
   "metadata": {},
   "outputs": [
    {
     "name": "stdout",
     "output_type": "stream",
     "text": [
      "[[-6, 4], [-7, -3], [-4.2, 8.1], [0, 3]]\n",
      "None\n"
     ]
    }
   ],
   "source": [
    "inversaVector([[6,-4],[7,3],[4.2,-8.1],[0,-3]])"
   ]
  },
  {
   "cell_type": "code",
   "execution_count": 74,
   "metadata": {},
   "outputs": [],
   "source": [
    "def adicionMatrices(x,y):\n",
    "    if len(x) == len(y) and len(x[0]) ==  len(y[0]):\n",
    "        resultado = []\n",
    "        for i in range(len(x)):\n",
    "            current = []\n",
    "            for j in range(len(x[i])):\n",
    "                current.append(sumar(x[i][j] , y[i][j]))\n",
    "            resultado.append(current)\n",
    "    print(resultado)\n",
    "                "
   ]
  },
  {
   "cell_type": "code",
   "execution_count": 76,
   "metadata": {},
   "outputs": [
    {
     "name": "stdout",
     "output_type": "stream",
     "text": [
      "[[[3, 0], [4, 0]], [[3, 0], [3, 0]]]\n"
     ]
    }
   ],
   "source": [
    "a = [[[1,0],[1,0]],[[1,0],[1,0]]]\n",
    "b = [[[2,0],[3,0]],[[2,0],[2,0]]]\n",
    "adicionMatrices(a,b)"
   ]
  },
  {
   "cell_type": "raw",
   "metadata": {},
   "source": []
  }
 ],
 "metadata": {
  "kernelspec": {
   "display_name": "Python 3",
   "language": "python",
   "name": "python3"
  },
  "language_info": {
   "codemirror_mode": {
    "name": "ipython",
    "version": 3
   },
   "file_extension": ".py",
   "mimetype": "text/x-python",
   "name": "python",
   "nbconvert_exporter": "python",
   "pygments_lexer": "ipython3",
   "version": "3.7.3"
  }
 },
 "nbformat": 4,
 "nbformat_minor": 2
}
