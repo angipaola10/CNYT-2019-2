{
 "cells": [
  {
   "cell_type": "markdown",
   "metadata": {},
   "source": [
    "# CIENCIAS NATURALES Y TECNOLOGÍA\n",
    "\n",
    "## Salto de lo clásico a lo cuántico\n",
    "#### Autora: Angi Paola Jimenez Pira\n",
    "#### 01/10/2019"
   ]
  },
  {
   "cell_type": "markdown",
   "metadata": {},
   "source": [
    "En este documento jupyterNotebook se encuentra el desarrollo del proyecto, se presentan funciones que resuelven retos\n",
    " de programación propuestos en el libro guía del curso, capítulo 3 \"Salto de lo clásico a lo cuántico\" (secciones 3.1, 3.2 y 3.3). A cotinuación se presenta el nombre de cada función, su objetivo, la descrición de como usarla y su desarrollo."
   ]
  },
  {
   "cell_type": "markdown",
   "metadata": {},
   "source": [
    "Importación de librerias"
   ]
  },
  {
   "cell_type": "code",
   "execution_count": 14,
   "metadata": {},
   "outputs": [],
   "source": [
    "import math\n",
    "import numpy\n",
    "import numpy as np\n",
    "import matplotlib.pyplot as plt"
   ]
  },
  {
   "cell_type": "markdown",
   "metadata": {},
   "source": [
    "\n",
    "A continuación se definirá la función **deterministaClasico** la cual calculará y prepresentará el estado del sistema después de ciertos clicks de tiempo. Para usar la función debe ingresar como parámetro una matriz booleana asociada a la forma en que se mueven las canícas, un vector que describe cuantas canícas se encuentran en cada vértice en el estado inicial y por ultimo el número de clicks de tiempo. "
   ]
  },
  {
   "cell_type": "code",
   "execution_count": 15,
   "metadata": {},
   "outputs": [],
   "source": [
    "def deterministaClasico(m, v, clicks):\n",
    "    for i in range (len(m[0])):\n",
    "        unos = 0\n",
    "        for j in range (len(m)):\n",
    "            if m[j][i] == [1,0]:\n",
    "                unos +=1\n",
    "        if unos != 1:\n",
    "            print(unos)\n",
    "            return False\n",
    "    \n",
    "    for t in range(clicks):\n",
    "         v = multiplicacionMatrices(m, v)\n",
    "\n",
    "    print('Vector estado final:', v)\n",
    "    labels = []\n",
    "    estado = []\n",
    "    for i in range (len(v)):\n",
    "        labels.append('Vertice '+str(i))\n",
    "    for i in range (len(v)):\n",
    "        estado.append(v[i][0][0])\n",
    "    \n",
    "    index = np.arange(len(labels))\n",
    "    plt.bar(index, estado)\n",
    "    plt.xlabel('Estado')\n",
    "    plt.ylabel('Valor')\n",
    "    plt.xticks(index, labels, rotation=90)\n",
    "    plt.title('Evolución dinámica del sistema')\n",
    "    plt.show()\n"
   ]
  },
  {
   "cell_type": "code",
   "execution_count": 16,
   "metadata": {},
   "outputs": [
    {
     "name": "stdout",
     "output_type": "stream",
     "text": [
      "Vector estado final: [[[0, 0]], [[0, 0]], [[1, 0]], [[7, 0]], [[2, 0]], [[21, 0]], [[5, 0]], [[0, 0]], [[4, 0]], [[0, 0]], [[3, 0]], [[5, 0]], [[0, 0]]]\n"
     ]
    },
    {
     "data": {
      "image/png": "[encoded data removed]",
      "text/plain": [
       "<Figure size 432x288 with 1 Axes>"
      ]
     },
     "metadata": {
      "needs_background": "light"
     },
     "output_type": "display_data"
    }
   ],
   "source": [
    "m  = [[[0,0],[0,0],[0,0],[0,0],[0,0],[0,0],[0,0],[0,0],[0,0],[0,0],[0,0],[0,0],[1,0]], #0\n",
    "     [[0,0],[0,0],[0,0],[0,0],[0,0],[0,0],[0,0],[0,0],[0,0],[0,0],[1,0],[0,0],[0,0]], #1\n",
    "     [[0,0],[0,0],[0,0],[0,0],[0,0],[0,0],[0,0],[0,0],[0,0],[0,0],[0,0],[1,0],[0,0]], #2 \n",
    "     [[0,0],[0,0],[1,0],[0,0],[0,0],[0,0],[0,0],[0,0],[0,0],[0,0],[0,0],[0,0],[0,0]], #3\n",
    "     [[0,0],[0,0],[0,0],[1,0],[0,0],[0,0],[0,0],[0,0],[0,0],[0,0],[0,0],[0,0],[0,0]], #4 \n",
    "     [[0,0],[0,0],[0,0],[0,0],[0,0],[0,0],[1,0],[0,0],[0,0],[0,0],[0,0],[0,0],[0,0]], #5\n",
    "     [[0,0],[0,0],[0,0],[0,0],[0,0],[1,0],[0,0],[0,0],[0,0],[1,0],[0,0],[0,0],[0,0]], #6\n",
    "     [[0,0],[0,0],[0,0],[0,0],[1,0],[0,0],[0,0],[0,0],[0,0],[0,0],[0,0],[0,0],[0,0]], #7\n",
    "     [[0,0],[1,0],[0,0],[0,0],[0,0],[0,0],[0,0],[0,0],[0,0],[0,0],[0,0],[0,0],[0,0]], #8\n",
    "     [[1,0],[0,0],[0,0],[0,0],[0,0],[0,0],[0,0],[0,0],[0,0],[0,0],[0,0],[0,0],[0,0]], #9\n",
    "     [[0,0],[0,0],[0,0],[0,0],[0,0],[0,0],[0,0],[0,0],[1,0],[0,0],[0,0],[0,0],[0,0]], #10\n",
    "     [[0,0],[0,0],[0,0],[0,0],[0,0],[0,0],[0,0],[1,0],[0,0],[0,0],[0,0],[0,0],[0,0]], #11\n",
    "     [[0,0],[0,0],[0,0],[0,0],[0,0],[0,0],[0,0],[0,0],[0,0],[0,0],[0,0],[0,0],[0,0]]  #12\n",
    "    ]\n",
    "\n",
    "v = [[[10,0]],  #0\n",
    "     [[4,0]],   #1\n",
    "     [[1,0]],   #2\n",
    "     [[7,0]],   #3\n",
    "     [[2,0]],   #4\n",
    "     [[2,0]],   #5\n",
    "     [[11,0]],  #6\n",
    "     [[0,0]],   #7\n",
    "     [[3,0]],   #8\n",
    "     [[1,0]],   #9\n",
    "     [[0,0]],   #10\n",
    "     [[5,0]],   #11\n",
    "     [[2,0]]    #12\n",
    "    ]\n",
    "deterministaClasico(m,v,25)"
   ]
  },
  {
   "cell_type": "markdown",
   "metadata": {},
   "source": [
    "Ahora se definirá la función **probabilistico** la cual retorna el vector resultante y la representación de este segun los datos ingresados. Para utilizarla debe ingresar como parámetro la matriz de los sistemas y los vectores iniciales asociados a estas. \n"
   ]
  },
  {
   "cell_type": "code",
   "execution_count": 31,
   "metadata": {},
   "outputs": [],
   "source": [
    "def probabilistico(Mp, Np, Ve, Ce, clicks):\n",
    "    VE = productoTensor(Ve, Ce)\n",
    "    ME = productoTensor(Mp, Np)\n",
    "    \n",
    "    for i in ME:\n",
    "        print(i)\n",
    "        \n",
    "    for t in range(clicks):\n",
    "         VE = multiplicacionMatrices(ME, VE)\n",
    "    \n",
    "    print('Vector estado final:', VE)\n",
    "    labels = []\n",
    "    estado = []\n",
    "    for i in range(len(VE)):\n",
    "        labels.append(str(i))\n",
    "        estado.append(VE[i][0][0])\n",
    "    \n",
    "    index = np.arange(len(labels))\n",
    "    plt.bar(index, estado)\n",
    "    plt.xlabel('Estado')\n",
    "    plt.ylabel('Valor')\n",
    "    plt.xticks(index, labels, rotation=90)\n",
    "    plt.title('Evolución dinámica del sistema')\n",
    "    plt.show()"
   ]
  },
  {
   "cell_type": "code",
   "execution_count": 32,
   "metadata": {
    "scrolled": true
   },
   "outputs": [
    {
     "name": "stdout",
     "output_type": "stream",
     "text": [
      "[[0, 0], [0.0, 0.0], [0.0, 0.0], [0.0, 0.0], [0.03333333333333333, 0.0], [0.16666666666666669, 0.0], [0.0, 0.0], [0.049999999999999996, 0.0], [0.25, 0.0], [0.0, 0.0], [0.08333333333333333, 0.0], [0.4166666666666667, 0.0]]\n",
      "[[0.0, 0.0], [0.0, 0.0], [0.0, 0.0], [0.06666666666666667, 0.0], [0.1, 0.0], [0.03333333333333333, 0.0], [0.09999999999999999, 0.0], [0.15, 0.0], [0.049999999999999996, 0.0], [0.16666666666666666, 0.0], [0.25, 0.0], [0.08333333333333333, 0.0]]\n",
      "[[0.0, 0.0], [0.0, 0.0], [0, 0], [0.13333333333333333, 0.0], [0.06666666666666667, 0.0], [0.0, 0.0], [0.19999999999999998, 0.0], [0.09999999999999999, 0.0], [0.0, 0.0], [0.3333333333333333, 0.0], [0.16666666666666666, 0.0], [0.0, 0.0]]\n",
      "[[0.0, 0.0], [0.049999999999999996, 0.0], [0.25, 0.0], [0.0, 0.0], [0.03333333333333333, 0.0], [0.16666666666666669, 0.0], [0.0, 0.0], [0.016666666666666666, 0.0], [0.08333333333333334, 0.0], [0.0, 0.0], [0.06666666666666667, 0.0], [0.33333333333333337, 0.0]]\n",
      "[[0.09999999999999999, 0.0], [0.15, 0.0], [0.049999999999999996, 0.0], [0.06666666666666667, 0.0], [0.1, 0.0], [0.03333333333333333, 0.0], [0.03333333333333333, 0.0], [0.05, 0.0], [0.016666666666666666, 0.0], [0.13333333333333333, 0.0], [0.2, 0.0], [0.06666666666666667, 0.0]]\n",
      "[[0.19999999999999998, 0.0], [0.09999999999999999, 0.0], [0.0, 0.0], [0.13333333333333333, 0.0], [0.06666666666666667, 0.0], [0.0, 0.0], [0.06666666666666667, 0.0], [0.03333333333333333, 0.0], [0.0, 0.0], [0.26666666666666666, 0.0], [0.13333333333333333, 0.0], [0.0, 0.0]]\n",
      "[[0.0, 0.0], [0.06666666666666667, 0.0], [0.33333333333333337, 0.0], [0.0, 0.0], [0.049999999999999996, 0.0], [0.25, 0.0], [0.0, 0.0], [0.03333333333333333, 0.0], [0.16666666666666669, 0.0], [0.0, 0.0], [0.016666666666666666, 0.0], [0.08333333333333334, 0.0]]\n",
      "[[0.13333333333333333, 0.0], [0.2, 0.0], [0.06666666666666667, 0.0], [0.09999999999999999, 0.0], [0.15, 0.0], [0.049999999999999996, 0.0], [0.06666666666666667, 0.0], [0.1, 0.0], [0.03333333333333333, 0.0], [0.03333333333333333, 0.0], [0.05, 0.0], [0.016666666666666666, 0.0]]\n",
      "[[0.26666666666666666, 0.0], [0.13333333333333333, 0.0], [0.0, 0.0], [0.19999999999999998, 0.0], [0.09999999999999999, 0.0], [0.0, 0.0], [0.13333333333333333, 0.0], [0.06666666666666667, 0.0], [0.0, 0.0], [0.06666666666666667, 0.0], [0.03333333333333333, 0.0], [0.0, 0.0]]\n",
      "[[0.0, 0.0], [0.049999999999999996, 0.0], [0.25, 0.0], [0.0, 0.0], [0.049999999999999996, 0.0], [0.25, 0.0], [0.0, 0.0], [0.06666666666666667, 0.0], [0.33333333333333337, 0.0], [0, 0], [0.0, 0.0], [0.0, 0.0]]\n",
      "[[0.09999999999999999, 0.0], [0.15, 0.0], [0.049999999999999996, 0.0], [0.09999999999999999, 0.0], [0.15, 0.0], [0.049999999999999996, 0.0], [0.13333333333333333, 0.0], [0.2, 0.0], [0.06666666666666667, 0.0], [0.0, 0.0], [0.0, 0.0], [0.0, 0.0]]\n",
      "[[0.19999999999999998, 0.0], [0.09999999999999999, 0.0], [0.0, 0.0], [0.19999999999999998, 0.0], [0.09999999999999999, 0.0], [0.0, 0.0], [0.26666666666666666, 0.0], [0.13333333333333333, 0.0], [0.0, 0.0], [0.0, 0.0], [0.0, 0.0], [0, 0]]\n",
      "Vector estado final: [[[0.06854114583333333, 0.0]], [[0.08497952546296297, 0.0]], [[0.09477932870370372, 0.0]], [[0.06920364583333334, 0.0]], [[0.08580091435185187, 0.0]], [[0.09569543981481482, 0.0]], [[0.06930522916666668, 0.0]], [[0.08592686064814815, 0.0]], [[0.0958359101851852, 0.0]], [[0.06899164583333334, 0.0]], [[0.08553806990740741, 0.0]], [[0.09540228425925927, 0.0]]]\n"
     ]
    },
    {
     "data": {
      "image/png": "[encoded data removed]",
      "text/plain": [
       "<Figure size 432x288 with 1 Axes>"
      ]
     },
     "metadata": {
      "needs_background": "light"
     },
     "output_type": "display_data"
    }
   ],
   "source": [
    "# Matriz de la dinámica para el sistema probabilístico A\n",
    "MA = [[[0,0],[0.2,0],[0.3,0],[0.5,0]],\n",
    "      [[0.3,0],[0.2,0],[0.1,0],[0.4,0]],\n",
    "      [[0.4,0],[0.3,0],[0.2,0],[0.1,0]],\n",
    "      [[0.3,0],[0.3,0],[0.4,0],[0,0]]\n",
    "     ]\n",
    "\n",
    "# Matriz de la dinámica para el sistema probabilístico B\n",
    "MB = [[[0,0],[1/6,0],[5/6,0]], \n",
    "      [[1/3,0],[1/2,0],[1/6,0]], \n",
    "      [[2/3,0],[1/3,0],[0,0]] \n",
    "     ]\n",
    "\n",
    "# Vector de estado inicial sistema probabilístico A\n",
    "VA = [[[0.2,0]],[[0.1,0]],[[0.6,0]],[[0.1,0]]]\n",
    "\n",
    "# Vector de estado inicial sistema probabilístico B\n",
    "VB = [[[0.7,0]],[[0.15,0]],[[0.15,0]]]\n",
    "\n",
    "probabilistico(MA,MB,VA,VB,5)"
   ]
  },
  {
   "cell_type": "markdown",
   "metadata": {},
   "source": [
    "* Ahora, se definirá la función **doble rendija** la cual se encarga de calcular una matriz. esa matriz al cuadrado y el vector de estado final a partir de los datos ingresados como parámetros. Para utilizarla debe ingresar el número de rendijas, el número de blancos desde los que se puede acceder desde cada rendija y el vector de probabilidades."
   ]
  },
  {
   "cell_type": "code",
   "execution_count": 19,
   "metadata": {},
   "outputs": [],
   "source": [
    "def dobleRendija(numRendijas, numBlancos, probabilidad):\n",
    "    for i in range (len(probabilidad)):\n",
    "        probabilidad[i][0] = [modulo(probabilidad[i][0])**2,0]\n",
    "        \n",
    "    n = 2 * numBlancos + 1\n",
    "    matriz = []\n",
    "    k = 1\n",
    "    cont = 0\n",
    "    for i in range(n):\n",
    "        fila = []\n",
    "        for j in range(n):\n",
    "            if(i == 0):\n",
    "                fila.append([0,0])\n",
    "            elif(i < numRendijas and j == 0):\n",
    "                fila.append([1/(numRendijas-1),0])\n",
    "            elif(j == k and i >= numRendijas):  \n",
    "                cont+=1\n",
    "                if (cont == 3 and i < n-1):\n",
    "                    k +=1  \n",
    "                    cont = 0\n",
    "                    j+=1\n",
    "                fila.append(probabilidad[cont-1][0])\n",
    "            elif (i == j and i >= numRendijas):\n",
    "                fila.append([1,0])\n",
    "            else: \n",
    "                fila.append([0,0])\n",
    "                \n",
    "        matriz.append(fila)    "
   ]
  },
  {
   "cell_type": "markdown",
   "metadata": {},
   "source": [
    "Ahora se definiran algunas funciones adicionales, extraidas del proyecto *Calculadora de numeros complejos* que son usadas en el desarrollo de este proyecto"
   ]
  },
  {
   "cell_type": "code",
   "execution_count": 20,
   "metadata": {},
   "outputs": [],
   "source": [
    "def sumar (x , y):\n",
    "    resultado  = [ (x[0]+y[0]) , (x[1]+y[1])]\n",
    "    return resultado"
   ]
  },
  {
   "cell_type": "code",
   "execution_count": 21,
   "metadata": {},
   "outputs": [],
   "source": [
    "def restar (x , y):\n",
    "    resultado  = [ (x[0]-y[0]) , (x[1]-y[1])]\n",
    "    return resultado"
   ]
  },
  {
   "cell_type": "code",
   "execution_count": 22,
   "metadata": {},
   "outputs": [],
   "source": [
    "def multiplicar (x , y):\n",
    "    resultado = [ (x[0]*y[0] - x[1]*y[1]) , (x[0]*y[1] + x[1]*y[0])] \n",
    "    return resultado"
   ]
  },
  {
   "cell_type": "code",
   "execution_count": 23,
   "metadata": {},
   "outputs": [],
   "source": [
    "def modulo (x):\n",
    "    resultado = (x[0]**2 + x[1]**2)**(1/2)\n",
    "    if resultado != None:\n",
    "        return resultado"
   ]
  },
  {
   "cell_type": "code",
   "execution_count": 24,
   "metadata": {},
   "outputs": [],
   "source": [
    "def sumaVectores (v1, v2):\n",
    "    if len(v1)== len(v2):\n",
    "        resultado = []\n",
    "        for i in range (len(v1)):\n",
    "            resultado.append(sumar(v1[i], v2[i]))\n",
    "        return resultado\n",
    "    print(\"La longitud de los vectores debe ser igual\")\n",
    "    return False"
   ]
  },
  {
   "cell_type": "code",
   "execution_count": 25,
   "metadata": {},
   "outputs": [],
   "source": [
    "def escalarPorVector(k, v):\n",
    "    resultado = []\n",
    "    for i in range(len(v)):\n",
    "        temp = multiplicar ( v[i], k)\n",
    "        resultado.append(temp)\n",
    "    return resultado"
   ]
  },
  {
   "cell_type": "code",
   "execution_count": 26,
   "metadata": {},
   "outputs": [],
   "source": [
    "def productoEscalar(v1,v2):\n",
    "    if len(v1) == len(v2):\n",
    "        resultado = [0,0]\n",
    "        for i in range (len(v1)):\n",
    "            temp = multiplicar(v1[i],v2[i])\n",
    "            resultado = sumar(resultado,temp)\n",
    "        return resultado\n",
    "    print(\"La longitud de los vectores debe ser igual\")\n",
    "    return False"
   ]
  },
  {
   "cell_type": "code",
   "execution_count": 27,
   "metadata": {},
   "outputs": [],
   "source": [
    "def multiplicacionMatrices (m1, m2):\n",
    "    if len(m1[0]) == len(m2):\n",
    "        resultado = []\n",
    "        for i in range(len(m1)):\n",
    "            fila = []\n",
    "            for j in range(len(m2[0])):\n",
    "                suma = [0,0]\n",
    "                for c in range(len(m1[0])):\n",
    "                    suma = sumar(suma, multiplicar(m1[i][c] , m2[c][j]))\n",
    "                fila.append(suma)\n",
    "            resultado.append(fila)\n",
    "        return resultado\n",
    "    print(\"El número de columnas de la primera matriz debe ser igual al número de filas de la segunda\")\n",
    "    return False"
   ]
  },
  {
   "cell_type": "code",
   "execution_count": 12,
   "metadata": {},
   "outputs": [],
   "source": [
    "def escalarPorMatriz(k,m):\n",
    "    resultado = []\n",
    "    for i in range(len(m)):\n",
    "        resultado.append(escalarPorVector(k,m[i]))\n",
    "    return resultado"
   ]
  },
  {
   "cell_type": "code",
   "execution_count": 13,
   "metadata": {},
   "outputs": [],
   "source": [
    "def productoTensor(m1,m2):\n",
    "    temp = []\n",
    "    for i in m1:\n",
    "        for j in i:\n",
    "            temp.append(escalarPorMatriz(j,m2))\n",
    "            \n",
    "    f = len(m1)*len(m2)\n",
    "    c = len(m1[0])*len(m2[0])\n",
    "    resultado =[]\n",
    "    for i in range(f):\n",
    "        curr = []\n",
    "        for j in range(c):\n",
    "            curr.append(0)\n",
    "        resultado.append(curr)\n",
    "    fil = 0\n",
    "    col = 0\n",
    "    for i in range(len(temp)):\n",
    "        for a in range(len(temp[i])):\n",
    "            for b in range (len(temp[i][a])):\n",
    "                c1= i * len(m2[0]) + b \n",
    "                if c1 > c-1:\n",
    "                    col = c1 % c\n",
    "                else:\n",
    "                    col = c1\n",
    "            \n",
    "                fil= c1//c  *len(m2) + a\n",
    "                resultado [fil][col] = temp[i][a][b]\n",
    "    return resultado"
   ]
  },
  {
   "cell_type": "code",
   "execution_count": null,
   "metadata": {},
   "outputs": [],
   "source": []
  }
 ],
 "metadata": {
  "kernelspec": {
   "display_name": "Python 3",
   "language": "python",
   "name": "python3"
  },
  "language_info": {
   "codemirror_mode": {
    "name": "ipython",
    "version": 3
   },
   "file_extension": ".py",
   "mimetype": "text/x-python",
   "name": "python",
   "nbconvert_exporter": "python",
   "pygments_lexer": "ipython3",
   "version": "3.7.3"
  }
 },
 "nbformat": 4,
 "nbformat_minor": 4
}
