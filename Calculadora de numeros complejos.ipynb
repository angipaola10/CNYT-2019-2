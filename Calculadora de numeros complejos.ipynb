{
 "cells": [
  {
   "cell_type": "markdown",
   "metadata": {},
   "source": [
    "# CIENCIAS NATURALES Y TECNOLOGÍA\n",
    "\n",
    "## Calculadora de números complejos\n",
    "#### Autora: Angi Paola Jimenez Pira\n",
    "#### 14/08/2019"
   ]
  },
  {
   "cell_type": "markdown",
   "metadata": {},
   "source": [
    "\n",
    "En este documento Jupyter Notebook se encuentran 2 fases del proyecto mediante el que se desarrolla una\n",
    "calculadora de números complejos, en cada fase se encuentran definidas una serie de operaciones:\n",
    "\n",
    "#### Fase 1:\n",
    "   * Suma de números complejos\n",
    "   * Resta de números complejos\n",
    "   * Multiplicación de números complejos\n",
    "   * División de números complejos\n",
    "   * Módulo de un número complejo\n",
    "   * Conjugado de un número complejo\n",
    "   * Representación cartesiana de un número complejo a su forma polar\n",
    "   * Representación polar de un número complejo a su forma cartesiana\n",
    "   * Fase de un número complejo\n",
    "              \n",
    "#### Fase 2:\n",
    "        \n",
    "   * Adición de vectores complejos.\n",
    "   * Inversa de vectores complejos\n",
    "   * Multiplicación escalar de vectores complejos.\n",
    "   * Adición de matrices complejas.\n",
    "   * Inversa de matrices complejas.\n",
    "   * Matriz transpuesta\n",
    "   * Multiplicación escalar de matrices complejas.\n",
    "   * Matriz conjugada\n",
    "   * Matriz adjunta\n",
    "   * Función para calcular la \"acción\" de una matriz sobre un vector.\n",
    "   * Norma de matrices\n",
    "   * Distancia entrematrices\n",
    "   * Revisar si es unitaria\n",
    "   * Revisar si es Hermitian\n",
    "   * Producto tensor.\n",
    "   \n",
    "#### Algunas funciones adicionales:\n",
    "   * Imprimir resultados\n",
    "   * Convertir Grados a Radianes \n",
    "   * Convertir Radianes a grados \n",
    "\n",
    "   \n",
    "### Recomendaciones generales para el uso de la calculadora \n",
    "        \n",
    "+ Los números complejos pueden ser representados como vectores y es de esta forma que debe ingresarlos en esta calculadora.\n",
    "\n",
    "  Ejemplos:\n",
    "\n",
    "    * 2 + 5i  corresponde al vector [2,5]\n",
    "    * 5i corresponde al vector [0,5]\n",
    "    * 2 corresponde al vector [5,0]\n",
    "    \n",
    "+ En las funciones que requieran grados, estos deben estar en radianes \n",
    "+ Las funciones que retornan numeros complejos, los retornan como un vector, si desea ver el resultado de una manera más    amigable, para cualquier operación utilice la función imprimir. \n",
    "\n",
    "*Los detalles  específicos sobre el uso de cada función se dan durante el desarrollo de estas*\n",
    "    "
   ]
  },
  {
   "cell_type": "markdown",
   "metadata": {},
   "source": [
    "## Funciones adicionales:\n",
    "\n",
    "Es importante definir las funciones adicionales antes que las que pertenecen propiamente al proyecto ya que estás son de gran utilidad para el desarrollo y comprobación de otras funciones."
   ]
  },
  {
   "cell_type": "markdown",
   "metadata": {},
   "source": [
    "* Importación de librerías"
   ]
  },
  {
   "cell_type": "code",
   "execution_count": 10,
   "metadata": {},
   "outputs": [],
   "source": [
    "import math"
   ]
  },
  {
   "cell_type": "markdown",
   "metadata": {},
   "source": [
    "* **Imprimir resultados**\n",
    "    \n",
    "    Esta función se utiliza para imprimir el resultado de cualquier operación definida en este proyecto, para utilizarla hay que tener en cuenta que al llamarla se le deben pasar 2 valores, el primero con el resultado de la operación que desea imprimir y el segundo con el tipo de operación que va a imprimir, las palabras clave para cada operación son:\n",
    "    + suma\n",
    "    + resta\n",
    "    + multiplicacion\n",
    "    + division\n",
    "   \n",
    "*Escriba la palabra asociada a cada operacion tal cual se muestra en el listado anterior y entre comillas. Ejemplo: imprimir(resultado, 'suma')*\n",
    "\n",
    "Si aún no es claro como se utiliza la función imprimir, durante el desarrollo del proyecto se utilizará y ahí se verá claramente cual es la manera correcta de usarla. "
   ]
  },
  {
   "cell_type": "code",
   "execution_count": 11,
   "metadata": {},
   "outputs": [],
   "source": [
    "def imprimir (resultado, operacion):\n",
    "    if operacion == 'suma' or operacion == 'resta'or operacion == 'escalar' or operacion == 'multiplicacion' or operacion == 'division' or operacion == 'conjugado' or operacion == 'cartesiana':\n",
    "        if resultado != \"No es posible realizar esta operación\":\n",
    "            x = resultado[0]\n",
    "            y = resultado[1]\n",
    "            if x == 0:\n",
    "                if y == 0:\n",
    "                    print (0)\n",
    "                elif y == 1: \n",
    "                    print (\"i\")\n",
    "                else:\n",
    "                    print (str(y)+\"i\")\n",
    "            elif y == 0:\n",
    "                print (x)\n",
    "            elif resultado[1] < 0:\n",
    "                print(str(x)+ \" - \"+str(y*(-1))+\"i\")\n",
    "            else:\n",
    "                print(str(x)+ \" + \"+str(y)+\"i\")\n",
    "                \n",
    "    elif operacion == 'radianes':\n",
    "        print(str(resultado)+\" Rad\")\n",
    "    elif operacion == 'grados':\n",
    "        print(str(resultado)+\" °\")\n",
    "    elif operacion == 'modulo':\n",
    "        print(resultado)\n",
    "    elif operacion == 'polar':\n",
    "        str1 = \"(\"+\"i\"+\"·\"+str(resultado[1])+\"˚\"+\")\"\n",
    "        str2 = \"e\" + \"^\" + str1\n",
    "        str3 = str(resultado[0])+\" · \"+str2\n",
    "        print(str3)\n",
    "    elif operacion == 'fase':\n",
    "        radianes = gRadianes(resultado)\n",
    "        radianes = round(radianes, 2)\n",
    "        print(str(radianes)+\" Rad\")\n",
    "        print(str(resultado)+\"˚\")\n",
    "    elif operacion == 'vsuma' or operacion == 'vinversa':\n",
    "        for i in range(len(resultado)):\n",
    "            imprimir(resultado[i], 'suma')"
   ]
  },
  {
   "cell_type": "markdown",
   "metadata": {},
   "source": [
    "A continuación se realizarán pruebas, para determinar que la función imprimirNum funcione correctamente "
   ]
  },
  {
   "cell_type": "code",
   "execution_count": 12,
   "metadata": {},
   "outputs": [
    {
     "name": "stdout",
     "output_type": "stream",
     "text": [
      "1 + 2i\n",
      "0\n",
      "2i\n"
     ]
    }
   ],
   "source": [
    "imprimir ([1,2], 'suma')\n",
    "imprimir ([0,0], 'resta')\n",
    "imprimir ([0,2], 'multiplicacion')\n"
   ]
  },
  {
   "cell_type": "markdown",
   "metadata": {},
   "source": [
    "* **Convertir Grados a Radianes**\n"
   ]
  },
  {
   "cell_type": "code",
   "execution_count": 48,
   "metadata": {},
   "outputs": [],
   "source": [
    "def gRadianes (x):\n",
    "    return round(x*math.pi/180,2)"
   ]
  },
  {
   "cell_type": "markdown",
   "metadata": {},
   "source": [
    "Pruebas para la función gRadianes:"
   ]
  },
  {
   "cell_type": "code",
   "execution_count": 14,
   "metadata": {},
   "outputs": [
    {
     "name": "stdout",
     "output_type": "stream",
     "text": [
      "1.05 Rad\n",
      "1.57 Rad\n"
     ]
    }
   ],
   "source": [
    "imprimir(gRadianes(60),'radianes')\n",
    "imprimir(gRadianes(90),'radianes')"
   ]
  },
  {
   "cell_type": "markdown",
   "metadata": {},
   "source": [
    "* **Convertir Radianes a grados**"
   ]
  },
  {
   "cell_type": "code",
   "execution_count": 15,
   "metadata": {},
   "outputs": [],
   "source": [
    "def rGrados (x):\n",
    "    return round((x*180)/math.pi, 2)"
   ]
  },
  {
   "cell_type": "markdown",
   "metadata": {},
   "source": [
    "Pruebas para la función rGrados:"
   ]
  },
  {
   "cell_type": "code",
   "execution_count": 16,
   "metadata": {},
   "outputs": [
    {
     "name": "stdout",
     "output_type": "stream",
     "text": [
      "60.16 °\n",
      "89.95 °\n"
     ]
    }
   ],
   "source": [
    "imprimir(rGrados(1.05),'grados')\n",
    "imprimir(rGrados(1.57),'grados')"
   ]
  },
  {
   "cell_type": "markdown",
   "metadata": {},
   "source": [
    "## Fase 1"
   ]
  },
  {
   "cell_type": "markdown",
   "metadata": {},
   "source": [
    "* **Suma de números complejos**"
   ]
  },
  {
   "cell_type": "code",
   "execution_count": 17,
   "metadata": {},
   "outputs": [],
   "source": [
    "def sumar (x , y):\n",
    "    resultado  = [ (x[0]+y[0]) , (x[1]+y[1])]\n",
    "    return resultado"
   ]
  },
  {
   "cell_type": "markdown",
   "metadata": {},
   "source": [
    "Pruebas para la función sumar:"
   ]
  },
  {
   "cell_type": "code",
   "execution_count": 18,
   "metadata": {},
   "outputs": [
    {
     "name": "stdout",
     "output_type": "stream",
     "text": [
      "6 + 11i\n",
      "-1 + 1i\n",
      "0\n"
     ]
    }
   ],
   "source": [
    "imprimir(sumar ([1,2],[5,9]), 'suma')\n",
    "imprimir(sumar ([-8,7],[7,-6]), 'suma')\n",
    "imprimir(sumar ([0,1],[0,-1]), 'suma')"
   ]
  },
  {
   "cell_type": "markdown",
   "metadata": {},
   "source": [
    "* **Resta de números complejos**"
   ]
  },
  {
   "cell_type": "code",
   "execution_count": 19,
   "metadata": {},
   "outputs": [],
   "source": [
    "def restar (x , y):\n",
    "    resultado  = [ (x[0]-y[0]) , (x[1]-y[1])]\n",
    "    return resultado"
   ]
  },
  {
   "cell_type": "markdown",
   "metadata": {},
   "source": [
    "Pruebas para la función restar:"
   ]
  },
  {
   "cell_type": "code",
   "execution_count": 20,
   "metadata": {},
   "outputs": [
    {
     "name": "stdout",
     "output_type": "stream",
     "text": [
      "-4 - 7i\n",
      "-15 + 13i\n",
      "2i\n"
     ]
    }
   ],
   "source": [
    "imprimir(restar ([1,2],[5,9]), 'resta')\n",
    "imprimir(restar ([-8,7],[7,-6]), 'resta')\n",
    "imprimir(restar ([0,1],[0,-1]), 'resta')"
   ]
  },
  {
   "cell_type": "markdown",
   "metadata": {},
   "source": [
    "* **Multiplicación de números complejos**"
   ]
  },
  {
   "cell_type": "code",
   "execution_count": 21,
   "metadata": {},
   "outputs": [],
   "source": [
    "def multiplicar (x , y):\n",
    "    resultado = [ (x[0]*y[0] - x[1]*y[1]) , (x[0]*y[1] + x[1]*y[0])] \n",
    "    return resultado"
   ]
  },
  {
   "cell_type": "markdown",
   "metadata": {},
   "source": [
    "Pruebas para la función multiplicar:"
   ]
  },
  {
   "cell_type": "code",
   "execution_count": 22,
   "metadata": {},
   "outputs": [
    {
     "name": "stdout",
     "output_type": "stream",
     "text": [
      "-5 + 5i\n",
      "7 + 4i\n",
      "25i\n"
     ]
    }
   ],
   "source": [
    "imprimir(multiplicar ([-3,-1],[1,-2]), 'multiplicacion')\n",
    "imprimir(multiplicar ([3,-2],[1,2]), 'multiplicacion')\n",
    "imprimir(multiplicar ([0,5],[5,0]), 'multiplicacion')"
   ]
  },
  {
   "cell_type": "markdown",
   "metadata": {},
   "source": [
    "* **División de números complejos**"
   ]
  },
  {
   "cell_type": "code",
   "execution_count": 23,
   "metadata": {},
   "outputs": [],
   "source": [
    "def dividir (x , y):\n",
    "    if y[0] == 0 and y[1] == 0:\n",
    "        print (\"No es posible realizar esta operación\")\n",
    "        return \"No es posible realizar esta operación\"\n",
    "    else:\n",
    "        temp = y[0]**2 + y[1]**2 \n",
    "        temp1 = x[0]*y[0] + x[1]*y[1]\n",
    "        temp2 = y[0]*x[1] - x[0]*y[1]\n",
    "        temp1 = round(temp1, 2)\n",
    "        temp2 = round(temp2, 2)\n",
    "        resultado = [temp1/temp , temp2/temp]   \n",
    "        return resultado"
   ]
  },
  {
   "cell_type": "markdown",
   "metadata": {},
   "source": [
    "Pruebas para la función dividir:"
   ]
  },
  {
   "cell_type": "code",
   "execution_count": 24,
   "metadata": {},
   "outputs": [
    {
     "name": "stdout",
     "output_type": "stream",
     "text": [
      "i\n",
      "No es posible realizar esta operación\n",
      "-1.5 - 1.5i\n"
     ]
    }
   ],
   "source": [
    "imprimir(dividir ([-2,1],[1,2]), 'division')\n",
    "imprimir(dividir ([5,4],[0,0]), 'division')\n",
    "imprimir(dividir ([0,3],[-1,-1]), 'division')"
   ]
  },
  {
   "cell_type": "markdown",
   "metadata": {},
   "source": [
    "* **Módulo de un número complejo**"
   ]
  },
  {
   "cell_type": "code",
   "execution_count": 25,
   "metadata": {},
   "outputs": [],
   "source": [
    "def modulo (x):\n",
    "    resultado = (x[0]**2 + x[1]**2)**(1/2)\n",
    "    if resultado != None:\n",
    "        resultado = round(resultado,2)\n",
    "        return resultado"
   ]
  },
  {
   "cell_type": "markdown",
   "metadata": {},
   "source": [
    " Pruebas para la función modulo:"
   ]
  },
  {
   "cell_type": "code",
   "execution_count": 26,
   "metadata": {},
   "outputs": [
    {
     "name": "stdout",
     "output_type": "stream",
     "text": [
      "5.0\n",
      "2.83\n",
      "25.0\n"
     ]
    }
   ],
   "source": [
    "imprimir(modulo ([3,4]),'modulo')\n",
    "imprimir(modulo ([2,2]), 'modulo')\n",
    "imprimir(modulo ([0,25]), 'modulo')"
   ]
  },
  {
   "cell_type": "markdown",
   "metadata": {},
   "source": [
    "* **Conjugado de un número complejo**"
   ]
  },
  {
   "cell_type": "code",
   "execution_count": 27,
   "metadata": {},
   "outputs": [],
   "source": [
    "def conjugar (x):\n",
    "    resultado = [x[0], x[1]*(-1)]\n",
    "    return resultado"
   ]
  },
  {
   "cell_type": "markdown",
   "metadata": {},
   "source": [
    "Pruebas para la función conjugar:"
   ]
  },
  {
   "cell_type": "code",
   "execution_count": 28,
   "metadata": {},
   "outputs": [
    {
     "name": "stdout",
     "output_type": "stream",
     "text": [
      "2 - 4i\n",
      "56 + 2i\n"
     ]
    }
   ],
   "source": [
    "imprimir(conjugar ([2,4]), 'conjugado')\n",
    "imprimir(conjugar ([56,-2]), 'conjugado')"
   ]
  },
  {
   "cell_type": "markdown",
   "metadata": {},
   "source": [
    "* **Representación cartesiana de un número complejo a su forma polar**\n",
    "\n",
    "*Esta función retornará un vector de 2 posiciones donde la primera posición contiene en r y la segunda el angulo en radianes*"
   ]
  },
  {
   "cell_type": "code",
   "execution_count": 29,
   "metadata": {},
   "outputs": [],
   "source": [
    "def cPolar (x):\n",
    "    r = (x[0]**2 + x[1]**2)**(1/2)\n",
    "    tethaRadianes = round(math.atan(x[1]/x[0]),2)\n",
    "    r  = round(r, 2)\n",
    "    resultado = [r,tethaRadianes]\n",
    "    return resultado"
   ]
  },
  {
   "cell_type": "markdown",
   "metadata": {},
   "source": [
    "Pruebas para la función cPolar:"
   ]
  },
  {
   "cell_type": "code",
   "execution_count": 30,
   "metadata": {},
   "outputs": [
    {
     "name": "stdout",
     "output_type": "stream",
     "text": [
      "5.39 · e^(i·1.19˚)\n",
      "103.46 · e^(i·1.0˚)\n"
     ]
    }
   ],
   "source": [
    "imprimir(cPolar([2,5]), 'polar')\n",
    "imprimir (cPolar([56,87]), 'polar')"
   ]
  },
  {
   "cell_type": "markdown",
   "metadata": {},
   "source": [
    "* **Representación polar de un número complejo a su forma cartesiana**\n",
    "\n",
    "*Para utilizar esta función debe ingresar un vector con dos posiciones, donde la primera posición contiene el r y la segunda el angulo en radianes*"
   ]
  },
  {
   "cell_type": "code",
   "execution_count": 31,
   "metadata": {},
   "outputs": [],
   "source": [
    "def pCartesiana (x):\n",
    "    a = x[0]*math.cos(x[1])\n",
    "    b = x[0]*math.sin(x[1])\n",
    "    a = round(a,2)\n",
    "    b = round(b,2)\n",
    "    resultado = [a,b]\n",
    "    return resultado"
   ]
  },
  {
   "cell_type": "markdown",
   "metadata": {},
   "source": [
    "Pruebas para la función pCartesiana:"
   ]
  },
  {
   "cell_type": "code",
   "execution_count": 32,
   "metadata": {},
   "outputs": [
    {
     "name": "stdout",
     "output_type": "stream",
     "text": [
      "4.78 + 1.48i\n",
      "43.3 + 25.0i\n"
     ]
    }
   ],
   "source": [
    "imprimir(pCartesiana ([5,38]), 'cartesiana')\n",
    "imprimir(pCartesiana([50,(math.pi)/6]), 'cartesiana')"
   ]
  },
  {
   "cell_type": "markdown",
   "metadata": {},
   "source": [
    "* **Fase de un número complejo**\n",
    "\n",
    "*Al imprimir la operacion 'fase', se mostrará la fase del numero complejo tanto en radianes como en grados, pero debe tener en cuenta que la función unicamente retorna el resultado en grados*"
   ]
  },
  {
   "cell_type": "code",
   "execution_count": 33,
   "metadata": {},
   "outputs": [],
   "source": [
    "def faseComplejo(x):\n",
    "    if x[0] >= 0 and x[1] > 0:\n",
    "        tetha = (x[1]*180) / math.pi\n",
    "        \n",
    "    elif x[0] < 0 and x[1] > 0:\n",
    "        angulo = math.atan(x[1])\n",
    "        angulo = (angulo * 180)/math.pi\n",
    "        tetha =  180 - angulo \n",
    "    \n",
    "    elif x[0] < 0 and x[1] < 0:\n",
    "        a = x[1]*(-1)\n",
    "        angulo = math.atan(a)\n",
    "        angulo = (angulo * 180)/math.pi\n",
    "        tetha =  270 - angulo\n",
    "        \n",
    "    elif x[0] >= 0 and x[1] < 0:\n",
    "        angulo = math.atan(x[1]*(-1))\n",
    "        angulo = (angulo * 180)/math.pi\n",
    "        tetha = 360 - angulo\n",
    "        \n",
    "    return tetha\n",
    "    "
   ]
  },
  {
   "cell_type": "markdown",
   "metadata": {},
   "source": [
    " Ahora se añadirá una función para imprimir la fase de un número complejo"
   ]
  },
  {
   "cell_type": "code",
   "execution_count": 34,
   "metadata": {},
   "outputs": [],
   "source": [
    "def imprimirFase(x):\n",
    "    grados = rGrados(x)\n",
    "    print(str(x)+\" Rad\")\n",
    "    print(str(grados)+\"˚\")"
   ]
  },
  {
   "cell_type": "markdown",
   "metadata": {},
   "source": [
    "Pruebas para la función faseComplejo e imprimirFase"
   ]
  },
  {
   "cell_type": "code",
   "execution_count": 35,
   "metadata": {},
   "outputs": [
    {
     "name": "stdout",
     "output_type": "stream",
     "text": [
      "5.24 Rad\n",
      "300.0˚\n",
      "\n",
      "1.57 Rad\n",
      "90.0˚\n",
      "\n",
      "5.5 Rad\n",
      "315.0˚\n"
     ]
    }
   ],
   "source": [
    "imprimir(faseComplejo([1,math.sqrt(3)*(-1)]), 'fase')\n",
    "print('')\n",
    "imprimir(faseComplejo([0,math.pi/2]), 'fase')\n",
    "print('')\n",
    "imprimir(faseComplejo([1,-1]), 'fase')"
   ]
  },
  {
   "cell_type": "markdown",
   "metadata": {},
   "source": [
    "## Fase 2"
   ]
  },
  {
   "cell_type": "markdown",
   "metadata": {},
   "source": [
    "* **Adición de vectores complejos**"
   ]
  },
  {
   "cell_type": "code",
   "execution_count": 36,
   "metadata": {},
   "outputs": [],
   "source": [
    "def sumaVectores (v1, v2):\n",
    "    if len(v1)== len(v2):\n",
    "        resultado = []\n",
    "        for i in range (len(v1)):\n",
    "            resultado.append(sumar(v1[i], v2[i]))\n",
    "        return resultado\n",
    "    return False\n",
    "            "
   ]
  },
  {
   "cell_type": "code",
   "execution_count": 37,
   "metadata": {},
   "outputs": [
    {
     "name": "stdout",
     "output_type": "stream",
     "text": [
      "2 + 6i\n",
      "4 + 5i\n"
     ]
    }
   ],
   "source": [
    "imprimir(sumaVectores([[1,5],[3,4]], [[1,1],[1,1]]), 'vsuma')"
   ]
  },
  {
   "cell_type": "markdown",
   "metadata": {},
   "source": [
    "* **Inversa de vectores complejos**"
   ]
  },
  {
   "cell_type": "code",
   "execution_count": 41,
   "metadata": {},
   "outputs": [],
   "source": [
    "def escalarPorVector(k, v):\n",
    "    resultado = []\n",
    "    for i in range(len(v)):\n",
    "        temp = multiplicar ( v[i], k)\n",
    "        resultado.append(temp)\n",
    "    return resultado\n",
    "        "
   ]
  },
  {
   "cell_type": "code",
   "execution_count": 42,
   "metadata": {},
   "outputs": [],
   "source": [
    "def inversaVector (v):\n",
    "    return escalarPorVector([-1,0],v)"
   ]
  },
  {
   "cell_type": "markdown",
   "metadata": {},
   "source": [
    "Pruebas para la función inversa:"
   ]
  },
  {
   "cell_type": "code",
   "execution_count": 43,
   "metadata": {},
   "outputs": [
    {
     "name": "stdout",
     "output_type": "stream",
     "text": [
      "-1 - 9i\n",
      "-5i\n",
      "-7 - 4i\n",
      "\n",
      "1 + 9i\n",
      "5i\n",
      "7 + 4i\n"
     ]
    }
   ],
   "source": [
    "imprimir(inversaVector([[1,9],[0,5], [7,4]]), 'vinversa')\n",
    "print(\"\")\n",
    "imprimir(inversaVector([[-1,-9],[0,-5],[-7,-4]]), 'vinversa')"
   ]
  },
  {
   "cell_type": "markdown",
   "metadata": {},
   "source": [
    "* **Multiplicación escalar de vectores complejos:**"
   ]
  },
  {
   "cell_type": "code",
   "execution_count": 44,
   "metadata": {},
   "outputs": [],
   "source": [
    "def productoEscalar(v1,v2):\n",
    "    if len(v1) == len(v2):\n",
    "        resultado = [0,0]\n",
    "        for i in range (len(v1)):\n",
    "            temp = multiplicar(v1[i],v2[i])\n",
    "            resultado = sumar(resultado,temp)\n",
    "        return resultado\n",
    "    return False\n",
    "            "
   ]
  },
  {
   "cell_type": "markdown",
   "metadata": {},
   "source": [
    "Pruebas para la Función productoEscalar:"
   ]
  },
  {
   "cell_type": "code",
   "execution_count": 45,
   "metadata": {},
   "outputs": [
    {
     "name": "stdout",
     "output_type": "stream",
     "text": [
      "-32 + 72i\n",
      "\n",
      "58i\n"
     ]
    }
   ],
   "source": [
    "imprimir(productoEscalar([[2,5],[1,2]], [[8,9],[5,4]]), 'escalar')\n",
    "print(\"\")\n",
    "imprimir(productoEscalar([[2,2],[3,3],[5,5]],[[5,5],[3,3],[2,2]]), 'escalar')"
   ]
  },
  {
   "cell_type": "markdown",
   "metadata": {},
   "source": [
    "* **Adición de matrices complejos.**"
   ]
  },
  {
   "cell_type": "code",
   "execution_count": 46,
   "metadata": {},
   "outputs": [],
   "source": [
    "def sumaMatriz (m1,m2):\n",
    "    if len(m1) == len(m2) and len(m1[0]) == len(m2[0]):\n",
    "        resultado = [] \n",
    "        for i in range (len(m1)):\n",
    "            resultado.append(sumaVectores(m1[i],m2[i]))\n",
    "        return resultado\n",
    "    return False\n",
    "                "
   ]
  },
  {
   "cell_type": "markdown",
   "metadata": {},
   "source": [
    "* **Inversa de matrices complejas**"
   ]
  },
  {
   "cell_type": "code",
   "execution_count": 49,
   "metadata": {},
   "outputs": [],
   "source": [
    "def inversaMatriz (m1):\n",
    "    resultado = []\n",
    "    for i in range(len(m1)):\n",
    "        resultado.append(inversaVector(m1[i]))\n",
    "    return resultado"
   ]
  },
  {
   "cell_type": "markdown",
   "metadata": {},
   "source": [
    "* **Matriz transpuesta**"
   ]
  },
  {
   "cell_type": "code",
   "execution_count": 62,
   "metadata": {},
   "outputs": [],
   "source": [
    "def matrizTranspuesta(m):\n",
    "    transpuesta = []\n",
    "    for i in range(len(m[0])):\n",
    "        temp = []\n",
    "        for j in range(len(m)):\n",
    "            print(m[j][i])\n",
    "            temp.append(m[j][i])\n",
    "        transpuesta.append(temp)\n",
    "    return transpuesta"
   ]
  },
  {
   "cell_type": "markdown",
   "metadata": {},
   "source": [
    "* **Multiplicación escalar de matrices complejas.**"
   ]
  },
  {
   "cell_type": "code",
   "execution_count": 129,
   "metadata": {},
   "outputs": [],
   "source": [
    "def multiplicacionMatrices (m1, m2):\n",
    "    if len(m1[0]) == len(m2):\n",
    "        resultado = []\n",
    "        for i in range(len(m1)):\n",
    "            fila = []\n",
    "            for j in range(len(m2[0])):\n",
    "                suma = [0,0]\n",
    "                for c in range(len(m1[0])):\n",
    "                    suma = sumar(suma, multiplicar(m1[i][c] , m2[c][j]))\n",
    "                fila.append(suma)\n",
    "            resultado.append(fila)\n",
    "        return resultado"
   ]
  },
  {
   "cell_type": "markdown",
   "metadata": {},
   "source": [
    "* **Matriz conjugada**"
   ]
  },
  {
   "cell_type": "code",
   "execution_count": 130,
   "metadata": {},
   "outputs": [],
   "source": [
    "def matrizConjugada(m):\n",
    "    resultado = []\n",
    "    for i in range(len(m)):\n",
    "        fila = []\n",
    "        for j in range(len(m[i])):\n",
    "            fila.append(conjugar(m[i][j]))\n",
    "        resultado.append(fila)\n",
    "    return resultado"
   ]
  },
  {
   "cell_type": "markdown",
   "metadata": {},
   "source": [
    "* **Matriz adjunta**"
   ]
  },
  {
   "cell_type": "code",
   "execution_count": 133,
   "metadata": {},
   "outputs": [],
   "source": [
    "def matrizAdjunta(m):\n",
    "    resultado = matrizConjugada(m)\n",
    "    resultado = matrizTranspuesta(n)\n",
    "    return resultado"
   ]
  },
  {
   "cell_type": "markdown",
   "metadata": {},
   "source": [
    "* **Función para calcular la \"acción\" de una matriz sobre un vector.**"
   ]
  },
  {
   "cell_type": "code",
   "execution_count": 134,
   "metadata": {},
   "outputs": [],
   "source": [
    "def matrizSobreVector(m1,v):\n",
    "    if len(m1[0]) == len(v):\n",
    "        for i in range(len(v)):\n",
    "            v[i]= [v[i]]\n",
    "        resultado =  multiplicacionMatrices(m1,v)\n",
    "        for i in range (len(resultado)):\n",
    "            resultado[i] = resultado[i][0]\n",
    "        return resultado\n",
    "                \n",
    "    "
   ]
  },
  {
   "cell_type": "code",
   "execution_count": null,
   "metadata": {},
   "outputs": [],
   "source": []
  },
  {
   "cell_type": "code",
   "execution_count": null,
   "metadata": {},
   "outputs": [],
   "source": []
  }
 ],
 "metadata": {
  "kernelspec": {
   "display_name": "Python 3",
   "language": "python",
   "name": "python3"
  },
  "language_info": {
   "codemirror_mode": {
    "name": "ipython",
    "version": 3
   },
   "file_extension": ".py",
   "mimetype": "text/x-python",
   "name": "python",
   "nbconvert_exporter": "python",
   "pygments_lexer": "ipython3",
   "version": "3.7.3"
  }
 },
 "nbformat": 4,
 "nbformat_minor": 2
}
