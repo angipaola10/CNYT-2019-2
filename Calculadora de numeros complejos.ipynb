{
 "cells": [
  {
   "cell_type": "markdown",
   "metadata": {},
   "source": [
    "# CIENCIAS NATURALES Y TECNOLOGÍA\n",
    "\n",
    "## Calculadora de números complejos\n",
    "#### Autora: Angi Paola Jimenez Pira\n",
    "#### 14/08/2019"
   ]
  },
  {
   "cell_type": "markdown",
   "metadata": {},
   "source": [
    "\n",
    "En este documento Jupyter Notebook se encuentran 2 fases del proyecto mediante el que se desarrolla una\n",
    "calculadora de números complejos, en cada fase se encuentran definidas una serie de operaciones:\n",
    "\n",
    "#### Fase 1:\n",
    "   * Suma de números complejos\n",
    "   * Resta de números complejos\n",
    "   * Multiplicación de números complejos\n",
    "   * División de números complejos\n",
    "   * Módulo de un número complejo\n",
    "   * Conjugado de un número complejo\n",
    "   * Representación cartesiana de un número complejo a su forma polar\n",
    "   * Representación polar de un número complejo a su forma cartesiana\n",
    "   * Fase de un número complejo\n",
    "              \n",
    "#### Fase 2:\n",
    "        \n",
    "   * Adición de vectores complejos.\n",
    "   * Inversa de vectores complejos\n",
    "   * Multiplicación escalar de vectores complejos.\n",
    "   * Adición de matrices complejas.\n",
    "   * Inversa de matrices complejas.\n",
    "   * Matriz transpuesta\n",
    "   * Multiplicación escalar de matrices complejas.\n",
    "   * Matriz conjugada\n",
    "   * Matriz adjunta\n",
    "   * Función para calcular la \"acción\" de una matriz sobre un vector.\n",
    "   * Norma de matrices\n",
    "   * Distancia entrematrices\n",
    "   * Revisar si es unitaria\n",
    "   * Revisar si es Hermitian\n",
    "   * Producto tensor.\n",
    "   \n",
    "#### Algunas funciones adicionales:\n",
    "   * Imprimir resultados\n",
    "   * Convertir Grados a Radianes \n",
    "   * Convertir Radianes a grados \n",
    "\n",
    "   \n",
    "### Recomendaciones generales para el uso de la calculadora \n",
    "        \n",
    "+ Los números complejos pueden ser representados como vectores y es de esta forma que debe ingresarlos en esta calculadora.\n",
    "\n",
    "  Ejemplos:\n",
    "\n",
    "    * 2 + 5i  corresponde al vector [2,5]\n",
    "    * 5i corresponde al vector [0,5]\n",
    "    * 2 corresponde al vector [5,0]\n",
    "    \n",
    "+ En las funciones que requieran grados, estos deben estar en radianes \n",
    "+ Las funciones que retornan numeros complejos, los retornan como un vector, si desea ver el resultado de una manera más    amigable, para cualquier operación utilice la función imprimir. \n",
    "\n",
    "*Los detalles  específicos sobre el uso de cada función se dan durante el desarrollo de estas*\n",
    "    "
   ]
  },
  {
   "cell_type": "markdown",
   "metadata": {},
   "source": [
    "## Funciones adicionales:\n",
    "\n",
    "Es importante definir las funciones adicionales antes que las que pertenecen propiamente al proyecto ya que estás son de gran utilidad para el desarrollo y comprobación de otras funciones."
   ]
  },
  {
   "cell_type": "markdown",
   "metadata": {},
   "source": [
    "* Importación de librerías"
   ]
  },
  {
   "cell_type": "code",
   "execution_count": 250,
   "metadata": {},
   "outputs": [],
   "source": [
    "import math\n",
    "import numpy"
   ]
  },
  {
   "cell_type": "markdown",
   "metadata": {},
   "source": [
    "* **Imprimir resultados**\n",
    "    \n",
    "    Esta función se utiliza para imprimir el resultado de cualquier operación definida en este proyecto, para utilizarla hay que tener en cuenta que al llamarla se le deben pasar 2 valores, el primero con el resultado de la operación que desea imprimir y el segundo con el tipo de operación que va a imprimir, las palabras clave para cada operación son:\n",
    "    + suma (suma de dos números complejos)\n",
    "    + resta (resta de dos números complejos)\n",
    "    + multiplicacion (multiplicación de dos números complejos)\n",
    "    + division (división de dos números complejos)\n",
    "    + escalar (multiplicación escalar de dos vectores)\n",
    "    + conjugado (conjugado de un vector)\n",
    "    + cartesiana (convertir de coordenadas polares a cartesianas)\n",
    "    + radianes(convertir grados a radianes)\n",
    "    + grados (convertir radianes a grados)\n",
    "    + modulo (hallar el modulo de un vector)\n",
    "    + polar (representacion polar de un numero complejo)\n",
    "    + fase (fase de un número complejo)\n",
    "    + vsuma (suma de dos vectores)\n",
    "    + vinversa (inversa de un vector)\n",
    "    + evector (multiplicar escalar por un vector)\n",
    "    + msobrev (accion de una matriz sobre un vector)\n",
    "    + msuma (suma de matrices)\n",
    "    + minversa (inversa de una matriz)\n",
    "    + mtraspuesta (transpuesta de una matriz)\n",
    "    + mtensor (producto tensor)\n",
    "    + mMultiplicacion (multiplicacion de matrices)\n",
    "    + mconjugado (conjugado de una matriz)\n",
    "    + mAdjunta (adjunta de una matriz)\n",
    "    \n",
    "*Escriba la palabra asociada a cada operacion tal cual se muestra en el listado anterior y entre comillas. Ejemplo: imprimir(resultado, 'suma')*\n",
    "\n",
    "Si aún no es claro como se utiliza la función imprimir, durante el desarrollo del proyecto se utilizará y ahí se verá claramente cual es la manera correcta de usarla. "
   ]
  },
  {
   "cell_type": "code",
   "execution_count": 322,
   "metadata": {},
   "outputs": [],
   "source": [
    "def imprimir (resultado, operacion, a = \"\"):\n",
    "    if resultado != False:\n",
    "        if operacion == 'suma' or operacion == 'resta'or operacion == 'escalar' or operacion == 'multiplicacion' or operacion == 'division' or operacion == 'conjugado' or operacion == 'cartesiana':\n",
    "            x = resultado[0]\n",
    "            y = resultado[1]\n",
    "            if x == 0:\n",
    "                if y == 0:\n",
    "                    string = str(0)\n",
    "                elif y == 1: \n",
    "                    string = \"i\"\n",
    "                else:\n",
    "                    string = str(y)+\"i\"\n",
    "            elif y == 0:\n",
    "                string = str(x)\n",
    "            elif resultado[1] < 0:\n",
    "                string = str(x)+ \" - \"+str(y*(-1))+\"i\"\n",
    "            else:\n",
    "                string = str(x)+ \" + \"+str(y)+\"i\"\n",
    "            if a == \"s\":\n",
    "                return string\n",
    "            else:\n",
    "                print(string)\n",
    "        elif operacion == 'radianes':\n",
    "            print(str(resultado)+\" Rad\")\n",
    "        elif operacion == 'grados':\n",
    "            print(str(resultado)+\" °\")\n",
    "        elif operacion == 'modulo':\n",
    "            print(resultado)\n",
    "        elif operacion == 'polar':\n",
    "            str1 = \"(\"+\"i\"+\"·\"+str(resultado[1])+\"˚\"+\")\"\n",
    "            str2 = \"e\" + \"^\" + str1\n",
    "            str3 = str(resultado[0])+\" · \"+str2\n",
    "            print(str3)\n",
    "        elif operacion == 'fase':\n",
    "            radianes = gRadianes(resultado)\n",
    "            radianes = round(radianes, 2)\n",
    "            print(str(radianes)+\" Rad\")\n",
    "            print(str(resultado)+\"˚\")\n",
    "        elif operacion == 'vsuma' or operacion == 'vinversa' or operacion == 'evector' or operacion == 'msobrev':\n",
    "            x = \"[ \"\n",
    "            for i in range(len(resultado)):  \n",
    "                x += imprimir(resultado[i], \"suma\", \"s\")+\" , \"\n",
    "            print(x[:-3]+\"]\")\n",
    "        elif operacion == 'msuma' or operacion == \"minversa\" or operacion == \"mtranspuesta\" or operacion == \"mtensor\" or operacion == \"mMultiplicacion\" or operacion == \"mconjugado\" or operacion == \"madjunta\":\n",
    "            x = \"[\"\n",
    "            for i in range(len(resultado)):\n",
    "                if i == 0:\n",
    "                    a = \"[\"\n",
    "                else:\n",
    "                    a = \" [\"\n",
    "                for j in range(len(resultado[i])):                \n",
    "                    a += imprimir(resultado[i][j], \"suma\", \"s\")+\" , \"\n",
    "                x += a[:-3]+\"] ,\\n\"\n",
    "            print(x[:-3]+\"]\")"
   ]
  },
  {
   "cell_type": "markdown",
   "metadata": {},
   "source": [
    "A continuación se realizarán pruebas, para determinar que la función imprimirNum funcione correctamente "
   ]
  },
  {
   "cell_type": "code",
   "execution_count": 156,
   "metadata": {},
   "outputs": [
    {
     "name": "stdout",
     "output_type": "stream",
     "text": [
      "1 + 2i\n",
      "0\n",
      "2i\n"
     ]
    }
   ],
   "source": [
    "imprimir ([1,2], 'suma')\n",
    "imprimir ([0,0], 'resta')\n",
    "imprimir ([0,2], 'multiplicacion')\n"
   ]
  },
  {
   "cell_type": "markdown",
   "metadata": {},
   "source": [
    "* **Convertir Grados a Radianes**\n"
   ]
  },
  {
   "cell_type": "code",
   "execution_count": 157,
   "metadata": {},
   "outputs": [],
   "source": [
    "def gRadianes (x):\n",
    "    return round(x*math.pi/180,2)"
   ]
  },
  {
   "cell_type": "markdown",
   "metadata": {},
   "source": [
    "Pruebas para la función gRadianes:"
   ]
  },
  {
   "cell_type": "code",
   "execution_count": 158,
   "metadata": {},
   "outputs": [
    {
     "name": "stdout",
     "output_type": "stream",
     "text": [
      "1.05 Rad\n",
      "1.57 Rad\n"
     ]
    }
   ],
   "source": [
    "imprimir(gRadianes(60),'radianes')\n",
    "imprimir(gRadianes(90),'radianes')"
   ]
  },
  {
   "cell_type": "markdown",
   "metadata": {},
   "source": [
    "* **Convertir Radianes a grados**"
   ]
  },
  {
   "cell_type": "code",
   "execution_count": 159,
   "metadata": {},
   "outputs": [],
   "source": [
    "def rGrados (x):\n",
    "    return round((x*180)/math.pi, 2)"
   ]
  },
  {
   "cell_type": "markdown",
   "metadata": {},
   "source": [
    "Pruebas para la función rGrados:"
   ]
  },
  {
   "cell_type": "code",
   "execution_count": 160,
   "metadata": {},
   "outputs": [
    {
     "name": "stdout",
     "output_type": "stream",
     "text": [
      "60.16 °\n",
      "89.95 °\n"
     ]
    }
   ],
   "source": [
    "imprimir(rGrados(1.05),'grados')\n",
    "imprimir(rGrados(1.57),'grados')"
   ]
  },
  {
   "cell_type": "markdown",
   "metadata": {},
   "source": [
    "## Fase 1"
   ]
  },
  {
   "cell_type": "markdown",
   "metadata": {},
   "source": [
    "* **Suma de números complejos**"
   ]
  },
  {
   "cell_type": "code",
   "execution_count": 161,
   "metadata": {},
   "outputs": [],
   "source": [
    "def sumar (x , y):\n",
    "    resultado  = [ (x[0]+y[0]) , (x[1]+y[1])]\n",
    "    return resultado"
   ]
  },
  {
   "cell_type": "markdown",
   "metadata": {},
   "source": [
    "Pruebas para la función sumar:"
   ]
  },
  {
   "cell_type": "markdown",
   "metadata": {},
   "source": [
    "1. $$(1 + 2i) + (5 + 9i) = (1+5 + 2i+9i) = 6 + 11i $$\n",
    "2. $$(-8 + 7i) + (7 - 6i) = (-8+7 + 1i-6i) = -1 + i $$ \n",
    "3. $$i - i = 0 $$ "
   ]
  },
  {
   "cell_type": "code",
   "execution_count": 162,
   "metadata": {},
   "outputs": [
    {
     "name": "stdout",
     "output_type": "stream",
     "text": [
      "6 + 11i\n",
      "-1 + 1i\n",
      "0\n"
     ]
    }
   ],
   "source": [
    "imprimir(sumar ([1,2],[5,9]), 'suma')\n",
    "imprimir(sumar ([-8,7],[7,-6]), 'suma')\n",
    "imprimir(sumar ([0,1],[0,-1]), 'suma')"
   ]
  },
  {
   "cell_type": "markdown",
   "metadata": {},
   "source": [
    "* **Resta de números complejos**"
   ]
  },
  {
   "cell_type": "code",
   "execution_count": 163,
   "metadata": {},
   "outputs": [],
   "source": [
    "def restar (x , y):\n",
    "    resultado  = [ (x[0]-y[0]) , (x[1]-y[1])]\n",
    "    return resultado"
   ]
  },
  {
   "cell_type": "markdown",
   "metadata": {},
   "source": [
    "Pruebas para la función restar:"
   ]
  },
  {
   "cell_type": "markdown",
   "metadata": {},
   "source": [
    "0. $$ (a_1 + bi_1) - (a_2 + bi_2) = (a_1 - a_2 + bi_1 - bi_2)$$\n",
    "1. $$(1+2i) - (5+9i) = (1-5 + 2i-9i) = -4 - 7i$$\n",
    "2. $$(-8+7i) - (7-6i) = (-8-7 + 7i-(-6i)) = (-8-7 + 7i +6i) = -15 + 13i $$\n",
    "3. $$ i - (-i) = i+i = 2i$$"
   ]
  },
  {
   "cell_type": "code",
   "execution_count": 164,
   "metadata": {},
   "outputs": [
    {
     "name": "stdout",
     "output_type": "stream",
     "text": [
      "-4 - 7i\n",
      "-15 + 13i\n",
      "2i\n"
     ]
    }
   ],
   "source": [
    "imprimir(restar ([1,2],[5,9]), 'resta')\n",
    "imprimir(restar ([-8,7],[7,-6]), 'resta')\n",
    "imprimir(restar ([0,1],[0,-1]), 'resta')"
   ]
  },
  {
   "cell_type": "markdown",
   "metadata": {},
   "source": [
    "* **Multiplicación de números complejos**"
   ]
  },
  {
   "cell_type": "code",
   "execution_count": 165,
   "metadata": {},
   "outputs": [],
   "source": [
    "def multiplicar (x , y):\n",
    "    resultado = [ (x[0]*y[0] - x[1]*y[1]) , (x[0]*y[1] + x[1]*y[0])] \n",
    "    return resultado"
   ]
  },
  {
   "cell_type": "markdown",
   "metadata": {},
   "source": [
    "Pruebas para la función multiplicar:"
   ]
  },
  {
   "cell_type": "markdown",
   "metadata": {},
   "source": [
    "0. $$(a_1 + b_1i) \\cdot (a_2 + b_2i) = (a_1,b_1) \\cdot (a_2, b_2)$$\n",
    "   $$(a_1,b_1) \\cdot (a_2, b_2) = (a_1 \\cdot a_2 - b_1 \\cdot b_2  \\thinspace , \\thinspace  a_1 \\cdot b_2 + b_1 \\cdot a_2 )$$\n",
    "\n",
    "\n",
    "\n",
    "1. $$(-3-i) \\cdot (1-2i) = (-3 \\thinspace, \\thinspace -1) \\cdot (1 \\thinspace, \\thinspace -2) $$\n",
    "   $$((-3) \\cdot 1 - (-1) \\cdot (-2)  \\thinspace , \\thinspace  (-3) \\cdot (-2) + (-1) \\cdot 1 )$$\n",
    "   $$(-3 - 2 \\thinspace , \\thinspace 6 - 1)$$\n",
    "   $$(-5 \\thinspace, \\thinspace 5)$$\n",
    "   $$ -5 + 5i$$\n",
    "   \n",
    "2. $$(3-2i) \\cdot (1+2i) = (3 \\thinspace, \\thinspace -2) \\cdot (1 \\thinspace, \\thinspace 2) $$\n",
    "   $$(3 \\cdot 1 - (-2) \\cdot (2)  \\thinspace , \\thinspace  (3) \\cdot (2) + (-2) \\cdot 1 )$$\n",
    "   $$(3 - (-4) \\thinspace , \\thinspace 6 - 2)$$\n",
    "   $$(7 \\thinspace, \\thinspace 4)$$\n",
    "   $$ 7 + 4i$$"
   ]
  },
  {
   "cell_type": "code",
   "execution_count": 166,
   "metadata": {},
   "outputs": [
    {
     "name": "stdout",
     "output_type": "stream",
     "text": [
      "-5 + 5i\n",
      "7 + 4i\n"
     ]
    }
   ],
   "source": [
    "imprimir(multiplicar ([-3,-1],[1,-2]), 'multiplicacion')\n",
    "imprimir(multiplicar ([3,-2],[1,2]), 'multiplicacion')"
   ]
  },
  {
   "cell_type": "markdown",
   "metadata": {},
   "source": [
    "* **División de números complejos**"
   ]
  },
  {
   "cell_type": "code",
   "execution_count": 169,
   "metadata": {},
   "outputs": [],
   "source": [
    "def dividir (x , y):\n",
    "    temp = y[0]**2 + y[1]**2 \n",
    "    if temp != 0: \n",
    "        temp1 = x[0]*y[0] + x[1]*y[1]\n",
    "        temp2 = y[0]*x[1] - x[0]*y[1]\n",
    "        temp1 = round(temp1, 2)\n",
    "        temp2 = round(temp2, 2)\n",
    "        resultado = [temp1/temp , temp2/temp]   \n",
    "        return resultado\n",
    "    else:\n",
    "        print(\"No es posible realizar la operación\")\n",
    "        return False"
   ]
  },
  {
   "cell_type": "markdown",
   "metadata": {},
   "source": [
    "Pruebas para la función dividir:"
   ]
  },
  {
   "cell_type": "markdown",
   "metadata": {},
   "source": [
    "0. $$\\frac{a_1+b_1i}{a_2+b_2i} = \\frac {a_1 \\cdot a_2 + b_1 \\cdot b_2}{a_2^2 + b_2^2} + \\frac {a_2 \\cdot b_1 - a_1 \\cdot b_2}{a_2^2 + b_2^2} $$\n",
    "\n",
    "1. $$\\frac{-2 + i}{1 + 2i}$$\n",
    "\n",
    "   $$\\frac {-2 \\cdot 1 + 1 \\cdot 2}{1^2 + 2^2} + \\frac {1 \\cdot 1 - (-2) \\cdot 2}{1^2 + 2^2} $$\n",
    "   \n",
    "   $$\\frac {-2 + 2}{1 + 4} + \\frac {1 - (-4)}{1 + 4} $$\n",
    "\n",
    "   $$ \\frac {0}{5} + \\frac {5}{5}$$\n",
    "   \n",
    "   $$0 + 1$$\n",
    "   \n",
    "   $$i$$\n",
    "   \n",
    "   \n",
    "2. $$\\frac{5 + 4i}{0}$$ *No es posible dividir por cero*\n",
    "\n",
    "\n",
    "3. $$\\frac{3i}{-1 -i}$$\n",
    "\n",
    "   $$\\frac {0 \\cdot (-1) + 3 \\cdot (-1)}{(-1)^2 + (-1)^2} + \\frac {-1 \\cdot 3 - 0 \\cdot (-1)}{(-1)^2 + (-1)^2} $$\n",
    "   \n",
    "   $$\\frac {0 + (-3)}{1 + 1} + \\frac {-3- 0}{1 + 1} $$\n",
    "   \n",
    "   $$\\frac {-3}{2} + \\frac {-3}{2} $$\n",
    "   \n",
    "   $$ -1.5 - 1.5i$$"
   ]
  },
  {
   "cell_type": "code",
   "execution_count": 170,
   "metadata": {},
   "outputs": [
    {
     "name": "stdout",
     "output_type": "stream",
     "text": [
      "i\n",
      "No es posible realizar la operación\n",
      "-1.5 - 1.5i\n"
     ]
    }
   ],
   "source": [
    "imprimir(dividir ([-2,1],[1,2]), 'division')\n",
    "imprimir(dividir ([5,4],[0,0]), 'division')\n",
    "imprimir(dividir ([0,3],[-1,-1]), 'division')"
   ]
  },
  {
   "cell_type": "markdown",
   "metadata": {},
   "source": [
    "* **Módulo de un número complejo**"
   ]
  },
  {
   "cell_type": "code",
   "execution_count": 171,
   "metadata": {},
   "outputs": [],
   "source": [
    "def modulo (x):\n",
    "    resultado = (x[0]**2 + x[1]**2)**(1/2)\n",
    "    if resultado != None:\n",
    "        return resultado"
   ]
  },
  {
   "cell_type": "markdown",
   "metadata": {},
   "source": [
    " Pruebas para la función modulo:"
   ]
  },
  {
   "cell_type": "markdown",
   "metadata": {},
   "source": [
    "0. $$ |a + bi| = \\sqrt {a^2 + b^2}$$\n",
    "\n",
    "\n",
    "1. $$ |3 + 4i|$$\n",
    "\n",
    "   $$\\sqrt {3^2 + 4^2}$$\n",
    "   \n",
    "   $$\\sqrt {9 + 16}$$\n",
    "   \n",
    "   $$\\sqrt {25}$$\n",
    "   \n",
    "   $$5$$\n",
    "   \n",
    "   \n",
    "2. $$ |2 + 2i|$$\n",
    "\n",
    "   $$\\sqrt {2^2 + 2^2}$$\n",
    "   \n",
    "   $$\\sqrt {4 + 4}$$\n",
    "   \n",
    "   $$\\sqrt {8}$$\n",
    "   \n",
    "   $$2.8284271247461903$$"
   ]
  },
  {
   "cell_type": "code",
   "execution_count": 172,
   "metadata": {},
   "outputs": [
    {
     "name": "stdout",
     "output_type": "stream",
     "text": [
      "5.0\n",
      "2.8284271247461903\n"
     ]
    }
   ],
   "source": [
    "imprimir(modulo ([3,4]),'modulo')\n",
    "imprimir(modulo ([2,2]), 'modulo')"
   ]
  },
  {
   "cell_type": "markdown",
   "metadata": {},
   "source": [
    "* **Conjugado de un número complejo**"
   ]
  },
  {
   "cell_type": "code",
   "execution_count": 173,
   "metadata": {},
   "outputs": [],
   "source": [
    "def conjugar (x):\n",
    "    resultado = [x[0], x[1]*(-1)]\n",
    "    return resultado"
   ]
  },
  {
   "cell_type": "markdown",
   "metadata": {},
   "source": [
    "Pruebas para la función conjugar:"
   ]
  },
  {
   "cell_type": "markdown",
   "metadata": {},
   "source": [
    "0. $$\\overline{a+bi} = a + (-1) \\cdot bi = a - bi $$\n",
    "\n",
    "1. $$\\overline{2-4i}$$\n",
    "   $$2 + (-1) \\cdot (-4)i$$\n",
    "   $$2 + 4i$$\n",
    "   \n",
    "2. $$\\overline{56+2i}$$\n",
    "   $$56 + (-1) \\cdot (2)i$$\n",
    "   $$56 - 2i$$"
   ]
  },
  {
   "cell_type": "code",
   "execution_count": 174,
   "metadata": {},
   "outputs": [
    {
     "name": "stdout",
     "output_type": "stream",
     "text": [
      "2 - 4i\n",
      "56 + 2i\n"
     ]
    }
   ],
   "source": [
    "imprimir(conjugar ([2,4]), 'conjugado')\n",
    "imprimir(conjugar ([56,-2]), 'conjugado')"
   ]
  },
  {
   "cell_type": "markdown",
   "metadata": {},
   "source": [
    "* **Representación cartesiana de un número complejo a su forma polar**\n",
    "\n",
    "*Esta función retornará un vector de 2 posiciones donde la primera posición contiene en r y la segunda el angulo en radianes*"
   ]
  },
  {
   "cell_type": "code",
   "execution_count": 175,
   "metadata": {},
   "outputs": [],
   "source": [
    "def cPolar (x):\n",
    "    r = (x[0]**2 + x[1]**2)**(1/2)\n",
    "    tethaRadianes = math.atan2(x[1],x[0])\n",
    "    resultado = [r,tethaRadianes]\n",
    "    return resultado"
   ]
  },
  {
   "cell_type": "markdown",
   "metadata": {},
   "source": [
    "Pruebas para la función cPolar:"
   ]
  },
  {
   "cell_type": "markdown",
   "metadata": {},
   "source": [
    "1. $$ 2+5i $$\n",
    "\n",
    "   $$ ρ = \\sqrt {2^2 + 5^2} = 5.385164807134504 $$\n",
    "   \n",
    "   $$\\arctan{\\tiny \\frac{5}{2}} = 1.1902899496825317$$\n",
    "   \n",
    "   $$5.38 \\cdot e^ {i \\cdot 1.20} $$\n",
    "   \n",
    "   \n",
    "   \n",
    "2. $$56 + 87i$$\n",
    "\n",
    "   $$ ρ = \\sqrt {56^2 + 87^2} = 103.46496991735899 $$\n",
    "   \n",
    "   $$\\arctan{\\tiny \\frac{87}{56}} = 0.9988781269336344$$\n",
    "   \n",
    "   $$103.47 \\cdot e^ {i} $$   \n",
    "  \n",
    "   "
   ]
  },
  {
   "cell_type": "code",
   "execution_count": 176,
   "metadata": {},
   "outputs": [
    {
     "name": "stdout",
     "output_type": "stream",
     "text": [
      "5.385164807134504 · e^(i·1.1902899496825317˚)\n",
      "103.46496991735899 · e^(i·0.9988781269336344˚)\n"
     ]
    }
   ],
   "source": [
    "imprimir(cPolar([2,5]), 'polar')\n",
    "imprimir (cPolar([56,87]), 'polar')"
   ]
  },
  {
   "cell_type": "markdown",
   "metadata": {},
   "source": [
    "* **Representación polar de un número complejo a su forma cartesiana**\n",
    "\n",
    "*Para utilizar esta función debe ingresar un vector con dos posiciones, donde la primera posición contiene el r y la segunda el angulo en radianes*"
   ]
  },
  {
   "cell_type": "code",
   "execution_count": 177,
   "metadata": {},
   "outputs": [],
   "source": [
    "def pCartesiana (x):\n",
    "    a = x[0]*math.cos(x[1])\n",
    "    b = x[0]*math.sin(x[1])\n",
    "    a = round(a,2)\n",
    "    b = round(b,2)\n",
    "    resultado = [a,b]\n",
    "    return resultado"
   ]
  },
  {
   "cell_type": "markdown",
   "metadata": {},
   "source": [
    "1. $$ρ = 5$$\n",
    "\n",
    "   $$ Ángulo = 38 Rad $$\n",
    "   \n",
    "   $$a = 5 \\cdot  \\cos(38) = 4.78$$\n",
    "   \n",
    "   $$b = 5 \\cdot  \\sin(38) = 1.48$$\n",
    "   \n",
    "   $$4.78 + 1.48i$$\n",
    "\n",
    "\n",
    "   \n",
    "2. $$ρ = 50$$\n",
    "\n",
    "   $$ Ángulo = \\frac{\\pi}{6} Rad $$\n",
    "   \n",
    "   $$a = 5 \\cdot  \\cos\\tiny\\frac{\\pi}{6} = 43.3$$\n",
    "   \n",
    "   $$b = 5 \\cdot  \\sin\\tiny\\frac{\\pi}{6} = 25$$\n",
    "   \n",
    "   $$43.3 + 25i$$"
   ]
  },
  {
   "cell_type": "code",
   "execution_count": 178,
   "metadata": {},
   "outputs": [
    {
     "name": "stdout",
     "output_type": "stream",
     "text": [
      "4.78 + 1.48i\n",
      "43.3 + 25.0i\n"
     ]
    }
   ],
   "source": [
    "imprimir(pCartesiana ([5,38]), 'cartesiana')\n",
    "imprimir(pCartesiana([50,(math.pi)/6]), 'cartesiana')"
   ]
  },
  {
   "cell_type": "markdown",
   "metadata": {},
   "source": [
    "* **Fase de un número complejo**\n",
    "\n",
    "*Al imprimir la operacion 'fase', se mostrará la fase del numero complejo tanto en radianes como en grados, pero debe tener en cuenta que la función unicamente retorna el resultado en grados*"
   ]
  },
  {
   "cell_type": "code",
   "execution_count": 179,
   "metadata": {},
   "outputs": [],
   "source": [
    "def faseComplejo(x):\n",
    "    if x[0] >= 0 and x[1] >= 0:\n",
    "        tetha = (x[1]*180) / math.pi\n",
    "        \n",
    "    elif x[0] < 0 and x[1] >= 0:\n",
    "        angulo = math.atan(x[1])\n",
    "        angulo = (angulo * 180)/math.pi\n",
    "        tetha =  180 - angulo \n",
    "    \n",
    "    elif x[0] < 0 and x[1] < 0:\n",
    "        a = x[1]*(-1)\n",
    "        angulo = math.atan(a)\n",
    "        angulo = (angulo * 180)/math.pi\n",
    "        tetha =  270 - angulo\n",
    "        \n",
    "    elif x[0] >= 0 and x[1] < 0:\n",
    "        angulo = math.atan(x[1]*(-1))\n",
    "        angulo = (angulo * 180)/math.pi\n",
    "        tetha = 360 - angulo\n",
    "        \n",
    "    return tetha\n",
    "    "
   ]
  },
  {
   "cell_type": "markdown",
   "metadata": {},
   "source": [
    "Pruebas para la función faseComplejo "
   ]
  },
  {
   "cell_type": "markdown",
   "metadata": {},
   "source": [
    "1. $$ 1 + - \\sqrt {3}i $$\n",
    "\n",
    "   $$ θ = \\arctan {(-1) \\cdot (- \\sqrt {3})} $$\n",
    "   \n",
    "   $$ θ = \\arctan {\\sqrt {3}} = 1.0471975511965976 \\thinspace rad$$\n",
    "   \n",
    "   $$ θ = \\frac{1.05\\cdot 180 } {\\pi} = 59.99999999999999°$$\n",
    "   \n",
    "   $$ Fase: 1.05  \\thinspace Rad \\thinspace ,  \\thinspace 60°$$\n",
    "   \n",
    "   \n",
    "\n",
    "2. $$ \\frac{\\pi}{2} i$$\n",
    "   \n",
    "   $$ θ = \\frac{\\pi}{2} \\thinspace rad$$\n",
    "   \n",
    "   $$ θ = \\frac{\\frac{\\pi}{2}\\cdot 180 } {\\pi} = 90 °$$\n",
    "   \n",
    "   $$ Fase:\\frac{\\pi}{2}  \\thinspace Rad \\thinspace ,  \\thinspace 90°$$\n",
    "   "
   ]
  },
  {
   "cell_type": "code",
   "execution_count": 192,
   "metadata": {},
   "outputs": [
    {
     "name": "stdout",
     "output_type": "stream",
     "text": [
      "5.24 Rad\n",
      "300.0˚\n",
      "\n",
      "1.57 Rad\n",
      "90.0˚\n"
     ]
    }
   ],
   "source": [
    "imprimir(faseComplejo([1,math.sqrt(3)*(-1)]), 'fase')\n",
    "print('')\n",
    "imprimir(faseComplejo([0,math.pi/2]), 'fase')"
   ]
  },
  {
   "cell_type": "markdown",
   "metadata": {},
   "source": [
    "Pruebas para la función pCartesiana"
   ]
  },
  {
   "cell_type": "markdown",
   "metadata": {},
   "source": [
    "## Fase 2"
   ]
  },
  {
   "cell_type": "markdown",
   "metadata": {},
   "source": [
    "* **Adición de vectores complejos**"
   ]
  },
  {
   "cell_type": "code",
   "execution_count": 193,
   "metadata": {},
   "outputs": [],
   "source": [
    "def sumaVectores (v1, v2):\n",
    "    if len(v1)== len(v2):\n",
    "        resultado = []\n",
    "        for i in range (len(v1)):\n",
    "            resultado.append(sumar(v1[i], v2[i]))\n",
    "        return resultado\n",
    "    print(\"La longitud de los vectores debe ser igual\")\n",
    "    return False\n",
    "            "
   ]
  },
  {
   "cell_type": "markdown",
   "metadata": {},
   "source": [
    "1.  $$\\mathbb{A} = \\;\n",
    "    \\begin{bmatrix}\n",
    "      {1+5i}\\\\\n",
    "      {3+4i}\n",
    "   \\end{bmatrix}$$\n",
    "   \n",
    "   $$\\mathbb{B} = \\;\n",
    "    \\begin{bmatrix}\n",
    "      {1+i}\\\\\n",
    "      {1+i}\n",
    "   \\end{bmatrix}$$\n",
    "   \n",
    "   $$\\mathbb{A+B} = \\;\n",
    "    \\begin{bmatrix}\n",
    "      {(1+5i)+(1+i)}\\\\\n",
    "      {(3+4i)+(1+i)}\n",
    "   \\end{bmatrix}$$\n",
    "   \n",
    "    $$\\mathbb{A+B} = \\;\n",
    "    \\begin{bmatrix}\n",
    "      {2 + 6i}\\\\\n",
    "      {4 + 5i}\n",
    "   \\end{bmatrix}$$"
   ]
  },
  {
   "cell_type": "code",
   "execution_count": 194,
   "metadata": {},
   "outputs": [
    {
     "name": "stdout",
     "output_type": "stream",
     "text": [
      "[ 2 + 6i , 4 + 5i]\n"
     ]
    }
   ],
   "source": [
    "imprimir(sumaVectores([[1,5],[3,4]], [[1,1],[1,1]]), 'vsuma')"
   ]
  },
  {
   "cell_type": "markdown",
   "metadata": {},
   "source": [
    "* **Inversa de vectores complejos**"
   ]
  },
  {
   "cell_type": "code",
   "execution_count": 195,
   "metadata": {},
   "outputs": [],
   "source": [
    "def escalarPorVector(k, v):\n",
    "    resultado = []\n",
    "    for i in range(len(v)):\n",
    "        temp = multiplicar ( v[i], k)\n",
    "        resultado.append(temp)\n",
    "    return resultado"
   ]
  },
  {
   "cell_type": "code",
   "execution_count": 196,
   "metadata": {},
   "outputs": [
    {
     "name": "stdout",
     "output_type": "stream",
     "text": [
      "[ 2 + 10i , 10 + 8i , 2 - 2i]\n"
     ]
    }
   ],
   "source": [
    "imprimir(escalarPorVector([2,0], [[1,5], [5,4], [1,-1]]), \"evector\")"
   ]
  },
  {
   "cell_type": "code",
   "execution_count": 197,
   "metadata": {},
   "outputs": [],
   "source": [
    "def inversaVector (v):\n",
    "    return escalarPorVector([-1,0],v)"
   ]
  },
  {
   "cell_type": "markdown",
   "metadata": {},
   "source": [
    "Pruebas para la función inversa:"
   ]
  },
  {
   "cell_type": "markdown",
   "metadata": {},
   "source": [
    " 1. $$\\mathbb{V} = \\;\n",
    "    \\begin{bmatrix}\n",
    "      {1+9i}\\\\\n",
    "      {5i}\\\\\n",
    "      {7+4i}\n",
    "   \\end{bmatrix}$$\n",
    "   \n",
    "  $$\\mathbb{-V} = \\;\n",
    "    \\begin{bmatrix}\n",
    "      {(-1)\\cdot(1+9i)}\\\\\n",
    "      {(-1)\\cdot(5i)}\\\\\n",
    "      {(-1)\\cdot(7+4i)}\n",
    "   \\end{bmatrix}$$\n",
    "   \n",
    "  $$\\mathbb{-V} = \\;\n",
    "    \\begin{bmatrix}\n",
    "      {-1-9i}\\\\\n",
    "      {-5i}\\\\\n",
    "      {-7-4i}\n",
    "   \\end{bmatrix}$$\n",
    "   \n",
    "   \n",
    "   \n",
    "2. $$\\mathbb{V_2} = \\;\n",
    "    \\begin{bmatrix}\n",
    "      {-8-4i}\\\\\n",
    "      {1}\\\\\n",
    "      {-5-5i}\n",
    "   \\end{bmatrix}$$\n",
    "   \n",
    "  $$\\mathbb{-V_2} = \\;\n",
    "    \\begin{bmatrix}\n",
    "      {(-1)\\cdot(-8-4i)}\\\\\n",
    "      {(-1)\\cdot(1)}\\\\\n",
    "      {(-1)\\cdot(-5-5i)}\n",
    "   \\end{bmatrix}$$\n",
    "   \n",
    "   $$\\mathbb{-V_2} = \\;\n",
    "    \\begin{bmatrix}\n",
    "      {8+4i}\\\\\n",
    "      {-1}\\\\\n",
    "      {5+5i}\n",
    "   \\end{bmatrix}$$"
   ]
  },
  {
   "cell_type": "code",
   "execution_count": 198,
   "metadata": {},
   "outputs": [
    {
     "name": "stdout",
     "output_type": "stream",
     "text": [
      "[ -1 - 9i , -5i , -7 - 4i]\n",
      "\n",
      "[ 8 + 4i , -1 , 5 + 5i]\n"
     ]
    }
   ],
   "source": [
    "imprimir(inversaVector([[1,9],[0,5], [7,4]]), 'vinversa')\n",
    "print(\"\")\n",
    "imprimir(inversaVector([[-8,-4],[1,0],[-5,-5]]), 'vinversa')"
   ]
  },
  {
   "cell_type": "markdown",
   "metadata": {},
   "source": [
    "* **Multiplicación escalar de vectores complejos:**"
   ]
  },
  {
   "cell_type": "code",
   "execution_count": 199,
   "metadata": {},
   "outputs": [],
   "source": [
    "def productoEscalar(v1,v2):\n",
    "    if len(v1) == len(v2):\n",
    "        resultado = [0,0]\n",
    "        for i in range (len(v1)):\n",
    "            temp = multiplicar(v1[i],v2[i])\n",
    "            resultado = sumar(resultado,temp)\n",
    "        return resultado\n",
    "    print(\"La longitud de los vectores debe ser igual\")\n",
    "    return False"
   ]
  },
  {
   "cell_type": "markdown",
   "metadata": {},
   "source": [
    "Pruebas para la Función productoEscalar:"
   ]
  },
  {
   "cell_type": "markdown",
   "metadata": {},
   "source": [
    "1. $$\\mathbb{A} = \\;\n",
    "    \\begin{bmatrix}\n",
    "      {2+5i}\\\\\n",
    "      {1+2i}\\\\\n",
    "   \\end{bmatrix}$$\n",
    "   \n",
    "    $$\\mathbb{B} = \\;\n",
    "        \\begin{bmatrix}\n",
    "          {8+9i}\\\\\n",
    "          {5+4i}\\\\\n",
    "       \\end{bmatrix}$$\n",
    "\n",
    "$$ \\mathbb{A} \\cdot \\mathbb{B} $$\n",
    "\n",
    "$$(2+5i) \\cdot (8+9i) + (1+2i) \\cdot (5+4i)$$\n",
    "$$(2,5) \\cdot (8,9) + (1,2) \\cdot (5,4)$$\n",
    "$$(2 \\cdot 8 - 5 \\cdot 9, 2 \\cdot 9 + 5 \\cdot 8)  + (1 \\cdot 5 - 2 \\cdot 4, 1 \\cdot 4 + 2 \\cdot 5 )$$ \n",
    "$$(16 - 45, 18 + 40) + (5 - 8 , 4 + 10)$$\n",
    "$$(-29, 58) + (-3, 14)$$\n",
    "$$(-32 ,72)$$\n",
    "$$ -32 + 72i $$\n",
    "\n",
    "\n",
    "2. $$\\mathbb{A} = \\;\n",
    "    \\begin{bmatrix}\n",
    "      {2+2i}\\\\\n",
    "      {3+3i}\\\\\n",
    "      {5+5i}\n",
    "   \\end{bmatrix}$$\n",
    "   \n",
    "    $$\\mathbb{B} = \\;\n",
    "        \\begin{bmatrix}\n",
    "          {5+5i}\\\\\n",
    "          {3+3i}\\\\\n",
    "          {2+2i}\n",
    "       \\end{bmatrix}$$\n",
    "   \n",
    "$$ \\mathbb{A}  \\cdot  \\mathbb{B}$$\n",
    "\n",
    "$$(2+2i)  \\cdot  (5+5i) + (3+3i)  \\cdot  (3+3i) +  (5+5i)  \\cdot  (2+2i)$$\n",
    "$$(2,2)  \\cdot (5,5) + (3,3)  \\cdot (3,3) + (5,5)  \\cdot (2,2) $$\n",
    "$$(2  \\cdot 5 - 2  \\cdot  5,  2  \\cdot  5 + 2  \\cdot 5) + (3  \\cdot  3 - 3  \\cdot 3, 3  \\cdot  3 + 3  \\cdot 3) + (5  \\cdot  2 - 5  \\cdot 2, 5  \\cdot 2 + 5  \\cdot 2)$$ \n",
    "$$(10 - 10,  10 + 10) + (9 - 9, 9 + 9) + (10 - 10, 10 + 10)$$ \n",
    "$$ (0,20)+(0,18)+(0,20)$$\n",
    "$$ (0, 58)$$\n",
    "$$ 58i $$"
   ]
  },
  {
   "cell_type": "code",
   "execution_count": 200,
   "metadata": {},
   "outputs": [
    {
     "name": "stdout",
     "output_type": "stream",
     "text": [
      "-32 + 72i\n",
      "\n",
      "58i\n"
     ]
    }
   ],
   "source": [
    "imprimir(productoEscalar([[2,5],[1,2]], [[8,9],[5,4]]), 'escalar')\n",
    "print(\"\")\n",
    "imprimir(productoEscalar([[2,2],[3,3],[5,5]],[[5,5],[3,3],[2,2]]), 'escalar')"
   ]
  },
  {
   "cell_type": "markdown",
   "metadata": {},
   "source": [
    "* **Adición de matrices complejos.**"
   ]
  },
  {
   "cell_type": "code",
   "execution_count": 201,
   "metadata": {},
   "outputs": [],
   "source": [
    "def sumaMatriz (m1,m2):\n",
    "    if len(m1) == len(m2) and len(m1[0]) == len(m2[0]):\n",
    "        resultado = [] \n",
    "        for i in range (len(m1)):\n",
    "            resultado.append(sumaVectores(m1[i],m2[i]))\n",
    "        return resultado\n",
    "    \"La dimensión de las matrices debe ser igual para sumarlas\"\n",
    "    return False"
   ]
  },
  {
   "cell_type": "markdown",
   "metadata": {},
   "source": [
    "1. $$\\mathbb{A} = \\;\n",
    "   \\begin{bmatrix}\n",
    "      {1+8i} & {-5+3i} \\\\\n",
    "      {45+7i} & {15}\\\\\n",
    "   \\end{bmatrix}$$\n",
    "\n",
    "    $$\\mathbb{B} = \\;\n",
    "       \\begin{bmatrix}\n",
    "          {i} & {-3i} \\\\\n",
    "          {2+5i} & {1+4i}\\\\\n",
    "       \\end{bmatrix}$$\n",
    "\n",
    "    $$\\mathbb{A+B} = \\;\n",
    "       \\begin{bmatrix}\n",
    "          {(1+8i) + (i)} & {(-5+3i)+(-3i)} \\\\\n",
    "          {(45+7i)+(2+5i)} & {(15)+(1+4i)}\\\\\n",
    "       \\end{bmatrix}$$\n",
    "\n",
    "    $$\\mathbb{A+B} = \\;\n",
    "       \\begin{bmatrix}\n",
    "          {1+9i} & {-5} \\\\\n",
    "          {47+12i} & {16 + 4i}\\\\\n",
    "       \\end{bmatrix}$$"
   ]
  },
  {
   "cell_type": "code",
   "execution_count": 313,
   "metadata": {},
   "outputs": [
    {
     "name": "stdout",
     "output_type": "stream",
     "text": [
      "[[1 + 9i , -5] ,\n",
      " [47 + 12i , 16 + 4i]]\n"
     ]
    }
   ],
   "source": [
    "imprimir(sumaMatriz([[[1,8],[-5,3]],[[45,7],[15,0]]],[[[0,1],[0,-3]],[[2,5],[1,4]]]), \"msuma\")"
   ]
  },
  {
   "cell_type": "markdown",
   "metadata": {},
   "source": [
    "* **Inversa de matrices complejas**"
   ]
  },
  {
   "cell_type": "code",
   "execution_count": 203,
   "metadata": {},
   "outputs": [],
   "source": [
    "def inversaMatriz (m1):\n",
    "    resultado = []\n",
    "    for i in range(len(m1)):\n",
    "        resultado.append(inversaVector(m1[i]))\n",
    "    return resultado"
   ]
  },
  {
   "cell_type": "markdown",
   "metadata": {},
   "source": [
    "$$\\mathbb{A} = \\;\n",
    "   \\begin{bmatrix}\n",
    "      {1+8i} & {-5+3i} \\\\\n",
    "      {45+7i} & {15}\\\\\n",
    "   \\end{bmatrix}$$\n",
    "   \n",
    "$$\\mathbb{-A} = \\;\n",
    "   \\begin{bmatrix}\n",
    "      {(-1)\\cdot (1+8i)} & {(-1)\\cdot (-5+3i)} \\\\\n",
    "      {(-1)\\cdot (45+7i)} & {(-1)\\cdot (15)}\\\\\n",
    "   \\end{bmatrix}$$\n",
    "\n",
    "$$\\mathbb{A} = \\;\n",
    "   \\begin{bmatrix}\n",
    "      {-1-8i} & {5-3i} \\\\\n",
    "      {-45-7i} & {-15}\\\\\n",
    "   \\end{bmatrix}$$"
   ]
  },
  {
   "cell_type": "code",
   "execution_count": 204,
   "metadata": {},
   "outputs": [
    {
     "name": "stdout",
     "output_type": "stream",
     "text": [
      "[[-1 - 8i , 5 - 3i] ,\n",
      " [-45 - 7i , -15]]\n"
     ]
    }
   ],
   "source": [
    "imprimir(inversaMatriz([[[1,8],[-5,3]],[[45,7],[15,0]]]), \"minversa\")"
   ]
  },
  {
   "cell_type": "markdown",
   "metadata": {},
   "source": [
    "* **Matriz transpuesta**"
   ]
  },
  {
   "cell_type": "code",
   "execution_count": 37,
   "metadata": {},
   "outputs": [],
   "source": [
    "def matrizTranspuesta(m):\n",
    "    transpuesta = []\n",
    "    for i in range(len(m[0])):\n",
    "        temp = []\n",
    "        for j in range(len(m)):\n",
    "            temp.append(m[j][i])\n",
    "        transpuesta.append(temp)\n",
    "    return transpuesta"
   ]
  },
  {
   "cell_type": "markdown",
   "metadata": {},
   "source": [
    "1. $$\\mathbb{A} = \\;\n",
    "       \\begin{bmatrix}\n",
    "          {1+8i} & {-5+3i} \\\\\n",
    "          {45+7i} & {15}\\\\\n",
    "          {7i} & {4+8i}\n",
    "       \\end{bmatrix}$$\n",
    "   \n",
    "    $$\\mathbb{A^T} = \\;\n",
    "       \\begin{bmatrix}\n",
    "          {1+8i} & {45+7i} & {7i} \\\\\n",
    "          {-5+3i} & {15} & {4+8i}\\\\\n",
    "       \\end{bmatrix}$$\n"
   ]
  },
  {
   "cell_type": "code",
   "execution_count": 138,
   "metadata": {},
   "outputs": [
    {
     "name": "stdout",
     "output_type": "stream",
     "text": [
      "[[1 + 8i , 45 + 7i , 7i] ,\n",
      " [-5 + 3i , 15 , 4 + 8i]]\n"
     ]
    }
   ],
   "source": [
    "imprimir(matrizTranspuesta([[[1,8],[-5,3]],[[45,7],[15,0]],[[0,7],[4,8]]]),\"mtranspuesta\")"
   ]
  },
  {
   "cell_type": "markdown",
   "metadata": {},
   "source": [
    "* **Multiplicación escalar de matrices complejas.**"
   ]
  },
  {
   "cell_type": "code",
   "execution_count": 38,
   "metadata": {},
   "outputs": [],
   "source": [
    "def multiplicacionMatrices (m1, m2):\n",
    "    if len(m1[0]) == len(m2):\n",
    "        resultado = []\n",
    "        for i in range(len(m1)):\n",
    "            fila = []\n",
    "            for j in range(len(m2[0])):\n",
    "                suma = [0,0]\n",
    "                for c in range(len(m1[0])):\n",
    "                    suma = sumar(suma, multiplicar(m1[i][c] , m2[c][j]))\n",
    "                fila.append(suma)\n",
    "            resultado.append(fila)\n",
    "        return resultado\n",
    "    print(\"El número de columnas de la primera matriz debe ser igual al número de filas de la segunda\")\n",
    "    return False"
   ]
  },
  {
   "cell_type": "code",
   "execution_count": 325,
   "metadata": {},
   "outputs": [
    {
     "name": "stdout",
     "output_type": "stream",
     "text": [
      "[[-51 - 15i , -130 + 70i] ,\n",
      " [62 + 299i , 402 + 529i] ,\n",
      " [-84 + 42i , -63 + 149i]]\n"
     ]
    }
   ],
   "source": [
    "imprimir(multiplicacionMatrices([[[1,8],[-5,3]],[[45,7],[15,0]],[[0,7],[4,8]]],[[[2,4],[7,9]],[[0,7],[10,5]]]), \"mMultiplicacion\")"
   ]
  },
  {
   "cell_type": "markdown",
   "metadata": {},
   "source": [
    "* **Matriz conjugada**"
   ]
  },
  {
   "cell_type": "code",
   "execution_count": 326,
   "metadata": {},
   "outputs": [],
   "source": [
    "def matrizConjugada(m):\n",
    "    resultado = []\n",
    "    for i in range(len(m)):\n",
    "        fila = []\n",
    "        for j in range(len(m[i])):\n",
    "            fila.append(conjugar(m[i][j]))\n",
    "        resultado.append(fila)\n",
    "    return resultado"
   ]
  },
  {
   "cell_type": "markdown",
   "metadata": {},
   "source": [
    "$$\\mathbb{A} = \\;\n",
    "       \\begin{bmatrix}\n",
    "          {1+8i} & {-5+3i} \\\\\n",
    "          {45+7i} & {15}\\\\\n",
    "          {7i} & {4+8i}\n",
    "       \\end{bmatrix}$$\n",
    "\n",
    "$$\\mathbb{\\overline{A}} = \\;\n",
    "       \\begin{bmatrix}\n",
    "          {\\overline{1+8i}} & {\\overline{-5+3i}} \\\\\n",
    "          {\\overline{45+7i}} & {\\overline{15}}\\\\\n",
    "          {\\overline{7i}} & {\\overline{4+8i}}\n",
    "       \\end{bmatrix}$$\n",
    "       \n",
    "$$\\mathbb{\\overline{A}} = \\;\n",
    "       \\begin{bmatrix}\n",
    "          {1-8i} & {-5-3i} \\\\\n",
    "          {45-7i} & {15}\\\\\n",
    "          {-7i} & {4-8i}\n",
    "       \\end{bmatrix}$$"
   ]
  },
  {
   "cell_type": "code",
   "execution_count": 148,
   "metadata": {},
   "outputs": [
    {
     "name": "stdout",
     "output_type": "stream",
     "text": [
      "[[1 - 8i , -5 - 3i] ,\n",
      " [45 - 7i , 15] ,\n",
      " [-7i , 4 - 8i]]\n"
     ]
    }
   ],
   "source": [
    "imprimir(matrizConjugada([[[1,8],[-5,3]],[[45,7],[15,0]],[[0,7],[4,8]]]), \"mconjugado\")"
   ]
  },
  {
   "cell_type": "markdown",
   "metadata": {},
   "source": [
    "* **Matriz adjunta**"
   ]
  },
  {
   "cell_type": "code",
   "execution_count": 40,
   "metadata": {},
   "outputs": [],
   "source": [
    "def matrizAdjunta(m):\n",
    "    resultado = matrizConjugada(m)\n",
    "    resultado = matrizTranspuesta(resultado)\n",
    "    return resultado"
   ]
  },
  {
   "cell_type": "markdown",
   "metadata": {},
   "source": [
    "$$Adjunta(A) = \\overline{A} ^ T $$\n",
    "\n",
    "\n",
    "$$\\mathbb{A} = \\;\n",
    "       \\begin{bmatrix}\n",
    "          {1+8i} & {-5+3i} \\\\\n",
    "          {45+7i} & {15}\\\\\n",
    "          {7i} & {4+8i}\n",
    "       \\end{bmatrix}$$\n",
    "       \n",
    "$$\\mathbb{\\overline{A}} = \\;\n",
    "       \\begin{bmatrix}\n",
    "          {1-8i} & {-5-3i} \\\\\n",
    "          {45-7i} & {15}\\\\\n",
    "          {-7i} & {4-8i}\n",
    "       \\end{bmatrix}$$\n",
    "       \n",
    "$$\\mathbb{\\overline{A}  ^ T} = \\;\n",
    "       \\begin{bmatrix}\n",
    "          {1-8i} & {45-7i} & {-7i}\\\\\n",
    "          {-5-3i} & {15} & {4-8i}\\\\\n",
    "       \\end{bmatrix}$$"
   ]
  },
  {
   "cell_type": "code",
   "execution_count": 144,
   "metadata": {},
   "outputs": [
    {
     "name": "stdout",
     "output_type": "stream",
     "text": [
      "[[1 - 8i , 45 - 7i , -7i] ,\n",
      " [-5 - 3i , 15 , 4 - 8i]]\n"
     ]
    }
   ],
   "source": [
    "imprimir(matrizAdjunta([[[1,8],[-5,3]],[[45,7],[15,0]],[[0,7],[4,8]]]), \"madjunta\")"
   ]
  },
  {
   "cell_type": "markdown",
   "metadata": {},
   "source": [
    "* **Función para calcular la \"acción\" de una matriz sobre un vector.**"
   ]
  },
  {
   "cell_type": "code",
   "execution_count": 190,
   "metadata": {},
   "outputs": [],
   "source": [
    "def matrizSobreVector(m1,v):\n",
    "    if len(m1[0]) == len(v):\n",
    "        for i in range(len(v)):\n",
    "            v[i]= [v[i]]\n",
    "        resultado =  multiplicacionMatrices(m1,v)\n",
    "        for i in range (len(resultado)):\n",
    "            resultado[i] = resultado[i][0]\n",
    "        return resultado\n",
    "    print(\"El numero de filas de la matriz, debe ser igual a la longitud del vector\")\n",
    "    return False"
   ]
  },
  {
   "cell_type": "markdown",
   "metadata": {},
   "source": [
    "$$\\mathbb{A} = \\;\n",
    "       \\begin{bmatrix}\n",
    "          {1-8i} & {-5-3i} \\\\\n",
    "          {5-7i} & {15}\\\\\n",
    "          {-7i} & {4-8i}\n",
    "       \\end{bmatrix}$$\n",
    "       \n",
    "$$\\mathbb{V} = \\;\n",
    "       \\begin{bmatrix}\n",
    "          {5}\\\\\n",
    "          {-i}\\\\\n",
    "       \\end{bmatrix}$$\n",
    "              \n",
    "$$\\mathbb{A V} = \\;\n",
    "       \\begin{bmatrix}\n",
    "          {(1-8i)(5) + (-5-3i) (-i)}\\\\\n",
    "          {(5-7i)(5) + (15) (-i)}\\\\\n",
    "          {(-7i)(5) + (4-8i) (-i) }\n",
    "       \\end{bmatrix}$$\n",
    "\n",
    "$$\\mathbb{A V} = \\;\n",
    "       \\begin{bmatrix}\n",
    "          {(1,-8)\\cdot(5,0) + (-5,-3)\\cdot(0,-1)}\\\\\n",
    "          {(5,-7)\\cdot(5,0) + (15,0)\\cdot(0,-1)}\\\\\n",
    "          {(0,-7)\\cdot(5,0) + (4,-8)\\cdot(0,-1) }\n",
    "       \\end{bmatrix}$$\n",
    "       \n",
    "$$\\mathbb{A V} = \\;\n",
    "       \\begin{bmatrix}\n",
    "          {(1 \\cdot 5 - (-8) \\cdot 0 , 1 \\cdot 0 + (-8)\\cdot5) + (-5 \\cdot 0 - (-3) \\cdot (-1), (-5) \\cdot(-1) + (-3) \\cdot )}\\\\\n",
    "          {(5 \\cdot 5-(-7)\\cdot 0 , 5 \\cdot0+(-7)\\cdot5) + (15 \\cdot 0 - 0 \\cdot (-1), 15 \\cdot(-1) + 0 \\cdot 0)}\\\\\n",
    "          {(0 \\cdot 5-(-7)\\cdot 0 , 0 \\cdot0+(-7)\\cdot5) + (4 \\cdot 0-(-8)\\cdot (-1), 4 \\cdot(-1)+(-8)\\cdot 0)}\n",
    "       \\end{bmatrix}$$\n",
    "       \n",
    "$$\\mathbb{A V} = \\;\n",
    "       \\begin{bmatrix}\n",
    "          {(5 - 0 , 0  + (-40)) + (0 - 3, 5 + 0)}\\\\\n",
    "          {(25 - 0 , 0+(-35)) + (0 - 0, (-15)+ 0)}\\\\\n",
    "          {(0 -0 , 0+(-35)) + (0-8, (-4)+ 0)}\n",
    "       \\end{bmatrix}$$\n",
    "       \n",
    "$$\\mathbb{A V} = \\;\n",
    "       \\begin{bmatrix}\n",
    "          {(5 ,-40) + (-3, 5)}\\\\\n",
    "          {(25 , -35) + (0 , -15}\\\\\n",
    "          {(0 , -35) + (-8, -4)}\n",
    "       \\end{bmatrix}$$\n",
    "       \n",
    "$$\\mathbb{A V} = \\;\n",
    "       \\begin{bmatrix}\n",
    "          {(2 ,-35)}\\\\\n",
    "          {(25 , -50)}\\\\\n",
    "          {(-8, -39)}\n",
    "       \\end{bmatrix}$$\n",
    "       \n",
    "$$\\mathbb{A V} = \\;\n",
    "       \\begin{bmatrix}\n",
    "          {2-35i}\\\\\n",
    "          {25-50i}\\\\\n",
    "          {-8-39i}\n",
    "       \\end{bmatrix}$$\n",
    "       "
   ]
  },
  {
   "cell_type": "code",
   "execution_count": 149,
   "metadata": {},
   "outputs": [
    {
     "name": "stdout",
     "output_type": "stream",
     "text": [
      "[ 2 - 35i , 25 - 50i , -8 - 39i]\n"
     ]
    }
   ],
   "source": [
    " imprimir(matrizSobreVector([[[1,-8],[-5,-3]],[[5,-7],[15,0]],[[0,-7],[4,-8]]],[[5,0],[0,-1]]), \"msobrev\")"
   ]
  },
  {
   "cell_type": "markdown",
   "metadata": {},
   "source": [
    "* **Revisar si es unitaria**"
   ]
  },
  {
   "cell_type": "code",
   "execution_count": 151,
   "metadata": {},
   "outputs": [],
   "source": [
    "def unitaria(m):\n",
    "    mdaga = matrizAdjunta(m)\n",
    "    resultado = multiplicacionMatrices(m,mdaga)\n",
    "    band = 0\n",
    "    for i in range(len(resultado)):\n",
    "        for j in range (len(resultado[i])):\n",
    "            if i == j and resultado[i][j] != [1,0]:\n",
    "                band = 1\n",
    "            elif i != j and resultado[i][j] != [0,0]:\n",
    "                band = 1\n",
    "    if band == 0:\n",
    "        return True \n",
    "    return False\n",
    "                "
   ]
  },
  {
   "cell_type": "markdown",
   "metadata": {},
   "source": [
    "$$\\mathbb{A} = \\;\n",
    "       \\begin{bmatrix}\n",
    "          { \\frac{1}{2} + \\frac{1}{2}i } && {\\frac{1}{2} -\\frac{1}{2}i}\\\\\n",
    "          {\\frac{1}{2} - \\frac{1}{2}i} && {\\frac{1}{2} + \\frac{1}{2}i}\n",
    "       \\end{bmatrix}$$\n",
    "       \n",
    "$$\\mathbb{adjunta (A)} = \\;\n",
    "       \\begin{bmatrix}\n",
    "            { \\frac{1}{2} - \\frac{1}{2}i } && {\\frac{1}{2} + \\frac{1}{2}i}\\\\\n",
    "            { \\frac{1}{2} + \\frac{1}{2}i } && {\\frac{1}{2} - \\frac{1}{2}i}\n",
    "       \\end{bmatrix}$$\n",
    "       \n",
    "$$\\mathbb{A \\cdot adjunt(A)} = \\;\n",
    "       \\begin{bmatrix}\n",
    "            { 1 } && { 0 }\\\\\n",
    "            { 0 } && { 1 }\n",
    "       \\end{bmatrix}$$\n",
    " "
   ]
  },
  {
   "cell_type": "code",
   "execution_count": 152,
   "metadata": {},
   "outputs": [
    {
     "name": "stdout",
     "output_type": "stream",
     "text": [
      "True\n"
     ]
    }
   ],
   "source": [
    "imprimir(unitaria([[[1/2,1/2],[1/2,-1/2]],[[1/2,-1/2],[1/2,1/2]]]), \"munitaria\")"
   ]
  },
  {
   "cell_type": "markdown",
   "metadata": {},
   "source": [
    "* **Revisar si es hermitiana**"
   ]
  },
  {
   "cell_type": "code",
   "execution_count": 153,
   "metadata": {},
   "outputs": [],
   "source": [
    "def hermitiana (m):\n",
    "    if m == matrizAdjunta(m):\n",
    "        return True\n",
    "    return False"
   ]
  },
  {
   "cell_type": "markdown",
   "metadata": {},
   "source": [
    "$$\\mathbb{A} = \\;\n",
    "       \\begin{bmatrix}\n",
    "            { 3  } && { 2- i } && {-3i}\\\\\n",
    "            { 2 + i } && {0} && {1 - i}\\\\\n",
    "            {3i} && {1 + i} && {0}\n",
    "       \\end{bmatrix}$$\n",
    "\n",
    "$$\\mathbb{\\overline{A} } = \\;\n",
    "       \\begin{bmatrix}\n",
    "            { 3 } && { 2+ i } && {3i}\\\\\n",
    "            { 2 - i } && {0} && {1 + i}\\\\\n",
    "            {-3i} && {1 - i} && {0}\n",
    "       \\end{bmatrix}$$\n",
    "       \n",
    "$$\\mathbb{\\overline{A} ^ T} = \\;\n",
    "       \\begin{bmatrix}\n",
    "            { 3 } && { 2 - i } && {-3i}\\\\\n",
    "            { 2 + i } && {0} && {1 - i}\\\\\n",
    "            {3i} && {1 + i} && {0}\n",
    "       \\end{bmatrix}$$\n"
   ]
  },
  {
   "cell_type": "code",
   "execution_count": 154,
   "metadata": {},
   "outputs": [
    {
     "name": "stdout",
     "output_type": "stream",
     "text": [
      "True\n"
     ]
    }
   ],
   "source": [
    "imprimir(hermitiana([[[3,0],[2,-1],[0,-3]],[[2,1],[0,0],[1,-1]],[[0,3],[1,1],[0,0]]]), \"mhermitiana\")"
   ]
  },
  {
   "cell_type": "markdown",
   "metadata": {},
   "source": [
    "* **Producto tensor**"
   ]
  },
  {
   "cell_type": "code",
   "execution_count": 217,
   "metadata": {},
   "outputs": [],
   "source": [
    "def escalarPorMatriz(k,m):\n",
    "    resultado = []\n",
    "    for i in range(len(m)):\n",
    "        resultado.append(escalarPorVector(k,m[i]))\n",
    "    return resultado"
   ]
  },
  {
   "cell_type": "code",
   "execution_count": 323,
   "metadata": {},
   "outputs": [],
   "source": [
    "def productoTensor(m1,m2):\n",
    "    temp = []\n",
    "    for i in m1:\n",
    "        for j in i:\n",
    "            temp.append(escalarPorMatriz(j,m2))\n",
    "            \n",
    "    f = len(m1)*len(m2)\n",
    "    c = len(m1[0])*len(m2[0])\n",
    "    resultado =[]\n",
    "    for i in range(f):\n",
    "        curr = []\n",
    "        for j in range(c):\n",
    "            curr.append(0)\n",
    "        resultado.append(curr)\n",
    "    fil = 0\n",
    "    col = 0\n",
    "    for i in range(len(temp)):\n",
    "        for a in range(len(temp[i])):\n",
    "            for b in range (len(temp[i][a])):\n",
    "                c1= i * len(m2[0]) + b \n",
    "                if c1 > c-1:\n",
    "                    col = c1 % c\n",
    "                else:\n",
    "                    col = c1\n",
    "            \n",
    "                fil= c1//c  *len(m2) + a\n",
    "                resultado [fil][col] = temp[i][a][b]\n",
    "    return resultado\n",
    "    "
   ]
  },
  {
   "cell_type": "code",
   "execution_count": 327,
   "metadata": {},
   "outputs": [
    {
     "name": "stdout",
     "output_type": "stream",
     "text": [
      "[[-3 + 1i , -4i , -2 + 2i , 0 , 0 , 0] ,\n",
      " [-1 + 5i , 2 + 4i , 4i , 0 , 0 , 0] ,\n",
      " [-3 - 1i , 2 , 1 + 3i , 0 , 0 , 0] ,\n",
      " [-1 + 2i , -2 - 2i , 2i , -2 - 1i , 2 - 2i , -2] ,\n",
      " [2 + 3i , 3 + 1i , 2 + 2i , -3 + 2i , -1 + 3i , -2 + 2i] ,\n",
      " [-2 + 1i , 1 - 1i , 2 + 1i , -1 - 2i , 1 + 1i , -1 + 2i]]\n"
     ]
    }
   ],
   "source": [
    "imprimir(productoTensor([[[1,1],[0,0]],[[1,0],[0,1]]],[[[-1,2],[-2,-2],[0,2]],[[2,3],[3,1],[2,2]],[[-2,1],[1,-1],[2,1]]]), \"mtensor\")"
   ]
  }
 ],
 "metadata": {
  "kernelspec": {
   "display_name": "Python 3",
   "language": "python",
   "name": "python3"
  },
  "language_info": {
   "codemirror_mode": {
    "name": "ipython",
    "version": 3
   },
   "file_extension": ".py",
   "mimetype": "text/x-python",
   "name": "python",
   "nbconvert_exporter": "python",
   "pygments_lexer": "ipython3",
   "version": "3.7.3"
  }
 },
 "nbformat": 4,
 "nbformat_minor": 2
}
